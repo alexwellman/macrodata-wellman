{
 "cells": [
  {
   "cell_type": "markdown",
   "metadata": {},
   "source": [
    "## Macro data exploration"
   ]
  },
  {
   "cell_type": "code",
   "execution_count": 1,
   "metadata": {},
   "outputs": [],
   "source": [
    "import pandas as pd\n",
    "import numpy as np\n",
    "import matplotlib.pyplot as plt\n",
    "import statsmodels.api as sm # HP filter and OLS regression\n",
    "import datetime"
   ]
  },
  {
   "cell_type": "code",
   "execution_count": 2,
   "metadata": {},
   "outputs": [],
   "source": [
    "plt.rcParams['figure.figsize'] = [16, 8]\n",
    "plt.rcParams['font.size'] = 22\n",
    "plt.rcParams['lines.linewidth'] = 2.5"
   ]
  },
  {
   "cell_type": "markdown",
   "metadata": {},
   "source": [
    "### Import Penn World tables"
   ]
  },
  {
   "cell_type": "code",
   "execution_count": 3,
   "metadata": {},
   "outputs": [],
   "source": [
    "path=\"/Users/aauclert/Dropbox/Data/Macrodata/pwtraw/\"\n",
    "\n",
    "#pwt_xls = pd.read_excel(path + 'pwt100.xlsx')\n",
    "pwt = pd.read_stata(path + 'pwt100.dta')    \n",
    "   \n",
    "# Get labels of variables\n",
    "pwt_labels = pd.io.stata.StataReader(path + 'pwt100.dta').variable_labels()"
   ]
  },
  {
   "cell_type": "code",
   "execution_count": 4,
   "metadata": {
    "scrolled": true
   },
   "outputs": [
    {
     "data": {
      "text/html": [
       "<div>\n",
       "<style scoped>\n",
       "    .dataframe tbody tr th:only-of-type {\n",
       "        vertical-align: middle;\n",
       "    }\n",
       "\n",
       "    .dataframe tbody tr th {\n",
       "        vertical-align: top;\n",
       "    }\n",
       "\n",
       "    .dataframe thead th {\n",
       "        text-align: right;\n",
       "    }\n",
       "</style>\n",
       "<table border=\"1\" class=\"dataframe\">\n",
       "  <thead>\n",
       "    <tr style=\"text-align: right;\">\n",
       "      <th></th>\n",
       "      <th>year</th>\n",
       "      <th>rgdpe</th>\n",
       "      <th>rgdpo</th>\n",
       "      <th>pop</th>\n",
       "      <th>emp</th>\n",
       "      <th>avh</th>\n",
       "      <th>hc</th>\n",
       "      <th>ccon</th>\n",
       "      <th>cda</th>\n",
       "      <th>cgdpe</th>\n",
       "      <th>...</th>\n",
       "      <th>csh_x</th>\n",
       "      <th>csh_m</th>\n",
       "      <th>csh_r</th>\n",
       "      <th>pl_c</th>\n",
       "      <th>pl_i</th>\n",
       "      <th>pl_g</th>\n",
       "      <th>pl_x</th>\n",
       "      <th>pl_m</th>\n",
       "      <th>pl_n</th>\n",
       "      <th>pl_k</th>\n",
       "    </tr>\n",
       "  </thead>\n",
       "  <tbody>\n",
       "    <tr>\n",
       "      <th>count</th>\n",
       "      <td>12810.000000</td>\n",
       "      <td>1.039900e+04</td>\n",
       "      <td>1.039900e+04</td>\n",
       "      <td>10399.000000</td>\n",
       "      <td>9529.000000</td>\n",
       "      <td>3492.000000</td>\n",
       "      <td>8637.000000</td>\n",
       "      <td>1.039900e+04</td>\n",
       "      <td>1.039900e+04</td>\n",
       "      <td>1.039900e+04</td>\n",
       "      <td>...</td>\n",
       "      <td>10399.000000</td>\n",
       "      <td>10399.000000</td>\n",
       "      <td>10399.000000</td>\n",
       "      <td>10399.000000</td>\n",
       "      <td>10399.000000</td>\n",
       "      <td>10399.000000</td>\n",
       "      <td>10399.000000</td>\n",
       "      <td>10399.000000</td>\n",
       "      <td>10314.000000</td>\n",
       "      <td>7095.000000</td>\n",
       "    </tr>\n",
       "    <tr>\n",
       "      <th>mean</th>\n",
       "      <td>1984.500000</td>\n",
       "      <td>3.048524e+05</td>\n",
       "      <td>3.070802e+05</td>\n",
       "      <td>30.962982</td>\n",
       "      <td>14.171157</td>\n",
       "      <td>1986.923200</td>\n",
       "      <td>2.087195</td>\n",
       "      <td>2.249462e+05</td>\n",
       "      <td>3.049462e+05</td>\n",
       "      <td>3.061396e+05</td>\n",
       "      <td>...</td>\n",
       "      <td>0.229316</td>\n",
       "      <td>-0.300829</td>\n",
       "      <td>0.017791</td>\n",
       "      <td>0.370851</td>\n",
       "      <td>0.423963</td>\n",
       "      <td>0.345635</td>\n",
       "      <td>0.409820</td>\n",
       "      <td>0.403422</td>\n",
       "      <td>0.359019</td>\n",
       "      <td>1.333924</td>\n",
       "    </tr>\n",
       "    <tr>\n",
       "      <th>std</th>\n",
       "      <td>20.205986</td>\n",
       "      <td>1.214332e+06</td>\n",
       "      <td>1.218456e+06</td>\n",
       "      <td>116.189454</td>\n",
       "      <td>58.056919</td>\n",
       "      <td>284.003338</td>\n",
       "      <td>0.727413</td>\n",
       "      <td>8.882338e+05</td>\n",
       "      <td>1.236095e+06</td>\n",
       "      <td>1.226055e+06</td>\n",
       "      <td>...</td>\n",
       "      <td>0.266793</td>\n",
       "      <td>0.640212</td>\n",
       "      <td>0.216197</td>\n",
       "      <td>0.424091</td>\n",
       "      <td>0.635707</td>\n",
       "      <td>0.408015</td>\n",
       "      <td>0.196283</td>\n",
       "      <td>0.202566</td>\n",
       "      <td>0.435651</td>\n",
       "      <td>1.941818</td>\n",
       "    </tr>\n",
       "    <tr>\n",
       "      <th>min</th>\n",
       "      <td>1950.000000</td>\n",
       "      <td>2.036377e+01</td>\n",
       "      <td>2.765232e+01</td>\n",
       "      <td>0.004425</td>\n",
       "      <td>0.001200</td>\n",
       "      <td>1380.607643</td>\n",
       "      <td>1.007038</td>\n",
       "      <td>1.604856e+01</td>\n",
       "      <td>2.176663e+01</td>\n",
       "      <td>2.026185e+01</td>\n",
       "      <td>...</td>\n",
       "      <td>-1.937363</td>\n",
       "      <td>-23.237627</td>\n",
       "      <td>-12.568965</td>\n",
       "      <td>0.015589</td>\n",
       "      <td>0.006002</td>\n",
       "      <td>0.009270</td>\n",
       "      <td>0.007354</td>\n",
       "      <td>0.020806</td>\n",
       "      <td>0.012977</td>\n",
       "      <td>0.064378</td>\n",
       "    </tr>\n",
       "    <tr>\n",
       "      <th>25%</th>\n",
       "      <td>1967.000000</td>\n",
       "      <td>6.801782e+03</td>\n",
       "      <td>7.191773e+03</td>\n",
       "      <td>1.579663</td>\n",
       "      <td>0.775101</td>\n",
       "      <td>1788.478805</td>\n",
       "      <td>1.450483</td>\n",
       "      <td>5.892980e+03</td>\n",
       "      <td>7.194495e+03</td>\n",
       "      <td>6.689781e+03</td>\n",
       "      <td>...</td>\n",
       "      <td>0.067027</td>\n",
       "      <td>-0.379584</td>\n",
       "      <td>-0.025204</td>\n",
       "      <td>0.171226</td>\n",
       "      <td>0.191958</td>\n",
       "      <td>0.116110</td>\n",
       "      <td>0.237652</td>\n",
       "      <td>0.240777</td>\n",
       "      <td>0.164152</td>\n",
       "      <td>0.650608</td>\n",
       "    </tr>\n",
       "    <tr>\n",
       "      <th>50%</th>\n",
       "      <td>1984.500000</td>\n",
       "      <td>3.031913e+04</td>\n",
       "      <td>3.084435e+04</td>\n",
       "      <td>6.150688</td>\n",
       "      <td>2.856044</td>\n",
       "      <td>1972.355973</td>\n",
       "      <td>1.987572</td>\n",
       "      <td>2.465417e+04</td>\n",
       "      <td>3.134864e+04</td>\n",
       "      <td>3.031841e+04</td>\n",
       "      <td>...</td>\n",
       "      <td>0.140116</td>\n",
       "      <td>-0.200254</td>\n",
       "      <td>0.000326</td>\n",
       "      <td>0.306258</td>\n",
       "      <td>0.377943</td>\n",
       "      <td>0.244554</td>\n",
       "      <td>0.443856</td>\n",
       "      <td>0.452949</td>\n",
       "      <td>0.295862</td>\n",
       "      <td>0.954343</td>\n",
       "    </tr>\n",
       "    <tr>\n",
       "      <th>75%</th>\n",
       "      <td>2002.000000</td>\n",
       "      <td>1.559740e+05</td>\n",
       "      <td>1.587386e+05</td>\n",
       "      <td>19.934229</td>\n",
       "      <td>8.266107</td>\n",
       "      <td>2168.035042</td>\n",
       "      <td>2.674011</td>\n",
       "      <td>1.133967e+05</td>\n",
       "      <td>1.532297e+05</td>\n",
       "      <td>1.559242e+05</td>\n",
       "      <td>...</td>\n",
       "      <td>0.300332</td>\n",
       "      <td>-0.102694</td>\n",
       "      <td>0.044529</td>\n",
       "      <td>0.484549</td>\n",
       "      <td>0.557087</td>\n",
       "      <td>0.452951</td>\n",
       "      <td>0.557034</td>\n",
       "      <td>0.541063</td>\n",
       "      <td>0.447566</td>\n",
       "      <td>1.415062</td>\n",
       "    </tr>\n",
       "    <tr>\n",
       "      <th>max</th>\n",
       "      <td>2019.000000</td>\n",
       "      <td>2.086051e+07</td>\n",
       "      <td>2.059584e+07</td>\n",
       "      <td>1433.783686</td>\n",
       "      <td>799.306641</td>\n",
       "      <td>3039.794005</td>\n",
       "      <td>4.351568</td>\n",
       "      <td>1.682624e+07</td>\n",
       "      <td>2.138355e+07</td>\n",
       "      <td>2.079136e+07</td>\n",
       "      <td>...</td>\n",
       "      <td>3.523480</td>\n",
       "      <td>32.874020</td>\n",
       "      <td>7.598285</td>\n",
       "      <td>23.122841</td>\n",
       "      <td>34.444988</td>\n",
       "      <td>18.420809</td>\n",
       "      <td>2.056070</td>\n",
       "      <td>4.990355</td>\n",
       "      <td>20.649197</td>\n",
       "      <td>31.931993</td>\n",
       "    </tr>\n",
       "  </tbody>\n",
       "</table>\n",
       "<p>8 rows × 44 columns</p>\n",
       "</div>"
      ],
      "text/plain": [
       "               year         rgdpe         rgdpo           pop          emp  \\\n",
       "count  12810.000000  1.039900e+04  1.039900e+04  10399.000000  9529.000000   \n",
       "mean    1984.500000  3.048524e+05  3.070802e+05     30.962982    14.171157   \n",
       "std       20.205986  1.214332e+06  1.218456e+06    116.189454    58.056919   \n",
       "min     1950.000000  2.036377e+01  2.765232e+01      0.004425     0.001200   \n",
       "25%     1967.000000  6.801782e+03  7.191773e+03      1.579663     0.775101   \n",
       "50%     1984.500000  3.031913e+04  3.084435e+04      6.150688     2.856044   \n",
       "75%     2002.000000  1.559740e+05  1.587386e+05     19.934229     8.266107   \n",
       "max     2019.000000  2.086051e+07  2.059584e+07   1433.783686   799.306641   \n",
       "\n",
       "               avh           hc          ccon           cda         cgdpe  \\\n",
       "count  3492.000000  8637.000000  1.039900e+04  1.039900e+04  1.039900e+04   \n",
       "mean   1986.923200     2.087195  2.249462e+05  3.049462e+05  3.061396e+05   \n",
       "std     284.003338     0.727413  8.882338e+05  1.236095e+06  1.226055e+06   \n",
       "min    1380.607643     1.007038  1.604856e+01  2.176663e+01  2.026185e+01   \n",
       "25%    1788.478805     1.450483  5.892980e+03  7.194495e+03  6.689781e+03   \n",
       "50%    1972.355973     1.987572  2.465417e+04  3.134864e+04  3.031841e+04   \n",
       "75%    2168.035042     2.674011  1.133967e+05  1.532297e+05  1.559242e+05   \n",
       "max    3039.794005     4.351568  1.682624e+07  2.138355e+07  2.079136e+07   \n",
       "\n",
       "       ...         csh_x         csh_m         csh_r          pl_c  \\\n",
       "count  ...  10399.000000  10399.000000  10399.000000  10399.000000   \n",
       "mean   ...      0.229316     -0.300829      0.017791      0.370851   \n",
       "std    ...      0.266793      0.640212      0.216197      0.424091   \n",
       "min    ...     -1.937363    -23.237627    -12.568965      0.015589   \n",
       "25%    ...      0.067027     -0.379584     -0.025204      0.171226   \n",
       "50%    ...      0.140116     -0.200254      0.000326      0.306258   \n",
       "75%    ...      0.300332     -0.102694      0.044529      0.484549   \n",
       "max    ...      3.523480     32.874020      7.598285     23.122841   \n",
       "\n",
       "               pl_i          pl_g          pl_x          pl_m          pl_n  \\\n",
       "count  10399.000000  10399.000000  10399.000000  10399.000000  10314.000000   \n",
       "mean       0.423963      0.345635      0.409820      0.403422      0.359019   \n",
       "std        0.635707      0.408015      0.196283      0.202566      0.435651   \n",
       "min        0.006002      0.009270      0.007354      0.020806      0.012977   \n",
       "25%        0.191958      0.116110      0.237652      0.240777      0.164152   \n",
       "50%        0.377943      0.244554      0.443856      0.452949      0.295862   \n",
       "75%        0.557087      0.452951      0.557034      0.541063      0.447566   \n",
       "max       34.444988     18.420809      2.056070      4.990355     20.649197   \n",
       "\n",
       "              pl_k  \n",
       "count  7095.000000  \n",
       "mean      1.333924  \n",
       "std       1.941818  \n",
       "min       0.064378  \n",
       "25%       0.650608  \n",
       "50%       0.954343  \n",
       "75%       1.415062  \n",
       "max      31.931993  \n",
       "\n",
       "[8 rows x 44 columns]"
      ]
     },
     "execution_count": 4,
     "metadata": {},
     "output_type": "execute_result"
    }
   ],
   "source": [
    "pwt.describe()"
   ]
  },
  {
   "cell_type": "code",
   "execution_count": 5,
   "metadata": {},
   "outputs": [
    {
     "data": {
      "text/plain": [
       "{'countrycode': '3-letter ISO country code',\n",
       " 'country': 'Country name',\n",
       " 'currency_unit': 'Currency unit',\n",
       " 'year': 'Year',\n",
       " 'rgdpe': 'Expenditure-side real GDP at chained PPPs (in mil. 2017US$)',\n",
       " 'rgdpo': 'Output-side real GDP at chained PPPs (in mil. 2017US$)',\n",
       " 'pop': 'Population (in millions)',\n",
       " 'emp': 'Number of persons engaged (in millions)',\n",
       " 'avh': 'Average annual hours worked by persons engaged (source: The Conference Board)',\n",
       " 'hc': 'Human capital index, see note hc',\n",
       " 'ccon': 'Real consumption of households and government, at current PPPs (in mil. 2017US$)',\n",
       " 'cda': 'Real domestic absorption, see note cda',\n",
       " 'cgdpe': 'Expenditure-side real GDP at current PPPs (in mil. 2017US$)',\n",
       " 'cgdpo': 'Output-side real GDP at current PPPs (in mil. 2017US$)',\n",
       " 'cn': 'Capital stock at current PPPs (in mil. 2017US$)',\n",
       " 'ck': 'Capital services levels at current PPPs (USA=1)',\n",
       " 'ctfp': 'TFP level at current PPPs (USA=1)',\n",
       " 'cwtfp': 'Welfare-relevant TFP levels at current PPPs (USA=1)',\n",
       " 'rgdpna': 'Real GDP at constant 2017 national prices (in mil. 2017US$)',\n",
       " 'rconna': 'Real consumption at constant 2017 national prices (in mil. 2017US$)',\n",
       " 'rdana': 'Real domestic absorption at constant 2017 national prices (in mil. 2017US$)',\n",
       " 'rnna': 'Capital stock at constant 2017 national prices (in mil. 2017US$)',\n",
       " 'rkna': 'Capital services at constant 2017 national prices (2017=1)',\n",
       " 'rtfpna': 'TFP at constant national prices (2017=1)',\n",
       " 'rwtfpna': 'Welfare-relevant TFP at constant national prices (2017=1)',\n",
       " 'labsh': 'Share of labour compensation in GDP at current national prices',\n",
       " 'irr': 'Real internal rate of return',\n",
       " 'delta': 'Average depreciation rate of the capital stock',\n",
       " 'xr': 'Exchange rate, national currency/USD (market+estimated)',\n",
       " 'pl_con': 'Price level of CCON (PPP/XR), price level of USA GDPo in 2017=1',\n",
       " 'pl_da': 'Price level of CDA (PPP/XR), price level of USA GDPo in 2017=1',\n",
       " 'pl_gdpo': 'Price level of CGDPo (PPP/XR),  price level of USA GDPo in 2017=1',\n",
       " 'i_cig': '0/1/2/3/4, see note i_cig',\n",
       " 'i_xm': '0/1/2, see note i_xm',\n",
       " 'i_xr': '0/1: the exchange rate is market-based (0) or estimated (1)',\n",
       " 'i_outlier': '0/1, see note i_outlier',\n",
       " 'i_irr': '0/1/2/3, see note i_irr',\n",
       " 'cor_exp': 'Correlation between expenditure shares, see note cor_exp',\n",
       " 'statcap': 'Statistical capacity indicator (source: World Bank, developing countries only)',\n",
       " 'csh_c': 'Share of household consumption at current PPPs',\n",
       " 'csh_i': 'Share of gross capital formation at current PPPs',\n",
       " 'csh_g': 'Share of government consumption at current PPPs',\n",
       " 'csh_x': 'Share of merchandise exports at current PPPs',\n",
       " 'csh_m': 'Share of merchandise imports at current PPPs',\n",
       " 'csh_r': 'Share of residual trade and GDP statistical discrepancy at current PPPs',\n",
       " 'pl_c': 'Price level of household consumption,  price level of USA GDPo in 2017=1',\n",
       " 'pl_i': 'Price level of capital formation, price level of USA GDPo in 2017=1',\n",
       " 'pl_g': 'Price level of government consumption, price level of USA GDPo in 2017=1',\n",
       " 'pl_x': 'Price level of exports, price level of USA GDPo in 2017=1',\n",
       " 'pl_m': 'Price level of imports, price level of USA GDPo in 2017=1',\n",
       " 'pl_n': 'Price level of the capital stock, price level of USA 2017=1',\n",
       " 'pl_k': 'Price level of the capital services, price level of USA=1'}"
      ]
     },
     "execution_count": 5,
     "metadata": {},
     "output_type": "execute_result"
    }
   ],
   "source": [
    "pwt_labels"
   ]
  },
  {
   "cell_type": "markdown",
   "metadata": {},
   "source": [
    "List countries in order of real GDP at current exchange rates"
   ]
  },
  {
   "cell_type": "code",
   "execution_count": 6,
   "metadata": {},
   "outputs": [],
   "source": [
    "#pwt['cgdpe']\n",
    "latest=pwt.loc[pwt['year']==2019]"
   ]
  },
  {
   "cell_type": "code",
   "execution_count": 7,
   "metadata": {
    "scrolled": true
   },
   "outputs": [
    {
     "data": {
      "text/html": [
       "<div>\n",
       "<style scoped>\n",
       "    .dataframe tbody tr th:only-of-type {\n",
       "        vertical-align: middle;\n",
       "    }\n",
       "\n",
       "    .dataframe tbody tr th {\n",
       "        vertical-align: top;\n",
       "    }\n",
       "\n",
       "    .dataframe thead th {\n",
       "        text-align: right;\n",
       "    }\n",
       "</style>\n",
       "<table border=\"1\" class=\"dataframe\">\n",
       "  <thead>\n",
       "    <tr style=\"text-align: right;\">\n",
       "      <th></th>\n",
       "      <th>countrycode</th>\n",
       "      <th>country</th>\n",
       "      <th>currency_unit</th>\n",
       "      <th>year</th>\n",
       "      <th>rgdpe</th>\n",
       "      <th>rgdpo</th>\n",
       "      <th>pop</th>\n",
       "      <th>emp</th>\n",
       "      <th>avh</th>\n",
       "      <th>hc</th>\n",
       "      <th>...</th>\n",
       "      <th>csh_x</th>\n",
       "      <th>csh_m</th>\n",
       "      <th>csh_r</th>\n",
       "      <th>pl_c</th>\n",
       "      <th>pl_i</th>\n",
       "      <th>pl_g</th>\n",
       "      <th>pl_x</th>\n",
       "      <th>pl_m</th>\n",
       "      <th>pl_n</th>\n",
       "      <th>pl_k</th>\n",
       "    </tr>\n",
       "  </thead>\n",
       "  <tbody>\n",
       "    <tr>\n",
       "      <th>69</th>\n",
       "      <td>ABW</td>\n",
       "      <td>Aruba</td>\n",
       "      <td>Aruban Guilder</td>\n",
       "      <td>2019</td>\n",
       "      <td>3921.261230</td>\n",
       "      <td>3467.299561</td>\n",
       "      <td>0.106314</td>\n",
       "      <td>0.047601</td>\n",
       "      <td>NaN</td>\n",
       "      <td>NaN</td>\n",
       "      <td>...</td>\n",
       "      <td>0.973115</td>\n",
       "      <td>-1.091808</td>\n",
       "      <td>2.125691e-07</td>\n",
       "      <td>0.883092</td>\n",
       "      <td>0.815759</td>\n",
       "      <td>0.744329</td>\n",
       "      <td>0.707260</td>\n",
       "      <td>0.622660</td>\n",
       "      <td>0.813961</td>\n",
       "      <td>0.616658</td>\n",
       "    </tr>\n",
       "    <tr>\n",
       "      <th>139</th>\n",
       "      <td>AGO</td>\n",
       "      <td>Angola</td>\n",
       "      <td>Kwanza</td>\n",
       "      <td>2019</td>\n",
       "      <td>228151.015625</td>\n",
       "      <td>227855.718750</td>\n",
       "      <td>31.825295</td>\n",
       "      <td>16.644962</td>\n",
       "      <td>NaN</td>\n",
       "      <td>1.481984</td>\n",
       "      <td>...</td>\n",
       "      <td>0.344351</td>\n",
       "      <td>-0.113983</td>\n",
       "      <td>-1.204703e-01</td>\n",
       "      <td>0.438169</td>\n",
       "      <td>0.342872</td>\n",
       "      <td>0.240024</td>\n",
       "      <td>0.476486</td>\n",
       "      <td>0.611627</td>\n",
       "      <td>0.209101</td>\n",
       "      <td>0.378172</td>\n",
       "    </tr>\n",
       "    <tr>\n",
       "      <th>209</th>\n",
       "      <td>AIA</td>\n",
       "      <td>Anguilla</td>\n",
       "      <td>East Caribbean Dollar</td>\n",
       "      <td>2019</td>\n",
       "      <td>376.634979</td>\n",
       "      <td>225.680527</td>\n",
       "      <td>0.014869</td>\n",
       "      <td>NaN</td>\n",
       "      <td>NaN</td>\n",
       "      <td>NaN</td>\n",
       "      <td>...</td>\n",
       "      <td>1.480300</td>\n",
       "      <td>-2.445801</td>\n",
       "      <td>-1.433542e-01</td>\n",
       "      <td>1.064513</td>\n",
       "      <td>1.029199</td>\n",
       "      <td>0.732212</td>\n",
       "      <td>0.768944</td>\n",
       "      <td>0.602734</td>\n",
       "      <td>0.902942</td>\n",
       "      <td>NaN</td>\n",
       "    </tr>\n",
       "    <tr>\n",
       "      <th>279</th>\n",
       "      <td>ALB</td>\n",
       "      <td>Albania</td>\n",
       "      <td>Lek</td>\n",
       "      <td>2019</td>\n",
       "      <td>35890.019531</td>\n",
       "      <td>36103.042969</td>\n",
       "      <td>2.880917</td>\n",
       "      <td>1.075898</td>\n",
       "      <td>NaN</td>\n",
       "      <td>2.964992</td>\n",
       "      <td>...</td>\n",
       "      <td>0.126594</td>\n",
       "      <td>-0.313949</td>\n",
       "      <td>6.114468e-02</td>\n",
       "      <td>0.473077</td>\n",
       "      <td>0.456882</td>\n",
       "      <td>0.235589</td>\n",
       "      <td>0.629832</td>\n",
       "      <td>0.525463</td>\n",
       "      <td>0.299344</td>\n",
       "      <td>NaN</td>\n",
       "    </tr>\n",
       "    <tr>\n",
       "      <th>349</th>\n",
       "      <td>ARE</td>\n",
       "      <td>United Arab Emirates</td>\n",
       "      <td>UAE Dirham</td>\n",
       "      <td>2019</td>\n",
       "      <td>681525.812500</td>\n",
       "      <td>645956.250000</td>\n",
       "      <td>9.770529</td>\n",
       "      <td>5.808834</td>\n",
       "      <td>NaN</td>\n",
       "      <td>2.746695</td>\n",
       "      <td>...</td>\n",
       "      <td>0.889652</td>\n",
       "      <td>-0.701231</td>\n",
       "      <td>-4.849206e-07</td>\n",
       "      <td>0.725061</td>\n",
       "      <td>0.480580</td>\n",
       "      <td>0.692488</td>\n",
       "      <td>0.688882</td>\n",
       "      <td>0.647336</td>\n",
       "      <td>0.268754</td>\n",
       "      <td>NaN</td>\n",
       "    </tr>\n",
       "    <tr>\n",
       "      <th>...</th>\n",
       "      <td>...</td>\n",
       "      <td>...</td>\n",
       "      <td>...</td>\n",
       "      <td>...</td>\n",
       "      <td>...</td>\n",
       "      <td>...</td>\n",
       "      <td>...</td>\n",
       "      <td>...</td>\n",
       "      <td>...</td>\n",
       "      <td>...</td>\n",
       "      <td>...</td>\n",
       "      <td>...</td>\n",
       "      <td>...</td>\n",
       "      <td>...</td>\n",
       "      <td>...</td>\n",
       "      <td>...</td>\n",
       "      <td>...</td>\n",
       "      <td>...</td>\n",
       "      <td>...</td>\n",
       "      <td>...</td>\n",
       "      <td>...</td>\n",
       "    </tr>\n",
       "    <tr>\n",
       "      <th>12529</th>\n",
       "      <td>VNM</td>\n",
       "      <td>Viet Nam</td>\n",
       "      <td>Dong</td>\n",
       "      <td>2019</td>\n",
       "      <td>750726.750000</td>\n",
       "      <td>724123.375000</td>\n",
       "      <td>96.462106</td>\n",
       "      <td>50.399563</td>\n",
       "      <td>2131.968232</td>\n",
       "      <td>2.869998</td>\n",
       "      <td>...</td>\n",
       "      <td>0.526032</td>\n",
       "      <td>-0.518066</td>\n",
       "      <td>-5.730492e-02</td>\n",
       "      <td>0.347591</td>\n",
       "      <td>0.399158</td>\n",
       "      <td>0.245056</td>\n",
       "      <td>0.695617</td>\n",
       "      <td>0.676502</td>\n",
       "      <td>0.249071</td>\n",
       "      <td>NaN</td>\n",
       "    </tr>\n",
       "    <tr>\n",
       "      <th>12599</th>\n",
       "      <td>YEM</td>\n",
       "      <td>Yemen</td>\n",
       "      <td>Yemeni Rial</td>\n",
       "      <td>2019</td>\n",
       "      <td>50052.933594</td>\n",
       "      <td>51828.058594</td>\n",
       "      <td>29.161922</td>\n",
       "      <td>5.531877</td>\n",
       "      <td>NaN</td>\n",
       "      <td>1.842989</td>\n",
       "      <td>...</td>\n",
       "      <td>0.000723</td>\n",
       "      <td>-0.135297</td>\n",
       "      <td>-1.733917e-01</td>\n",
       "      <td>0.777612</td>\n",
       "      <td>0.238807</td>\n",
       "      <td>0.211786</td>\n",
       "      <td>0.632594</td>\n",
       "      <td>0.670528</td>\n",
       "      <td>0.171695</td>\n",
       "      <td>NaN</td>\n",
       "    </tr>\n",
       "    <tr>\n",
       "      <th>12669</th>\n",
       "      <td>ZAF</td>\n",
       "      <td>South Africa</td>\n",
       "      <td>Rand</td>\n",
       "      <td>2019</td>\n",
       "      <td>748940.000000</td>\n",
       "      <td>734094.375000</td>\n",
       "      <td>58.558270</td>\n",
       "      <td>18.642710</td>\n",
       "      <td>2191.363362</td>\n",
       "      <td>2.908202</td>\n",
       "      <td>...</td>\n",
       "      <td>0.184207</td>\n",
       "      <td>-0.198112</td>\n",
       "      <td>4.914912e-03</td>\n",
       "      <td>0.463660</td>\n",
       "      <td>0.523813</td>\n",
       "      <td>0.447869</td>\n",
       "      <td>0.660216</td>\n",
       "      <td>0.604546</td>\n",
       "      <td>0.312701</td>\n",
       "      <td>0.515316</td>\n",
       "    </tr>\n",
       "    <tr>\n",
       "      <th>12739</th>\n",
       "      <td>ZMB</td>\n",
       "      <td>Zambia</td>\n",
       "      <td>Kwacha</td>\n",
       "      <td>2019</td>\n",
       "      <td>57956.183594</td>\n",
       "      <td>56783.714844</td>\n",
       "      <td>17.861030</td>\n",
       "      <td>5.225448</td>\n",
       "      <td>NaN</td>\n",
       "      <td>2.686845</td>\n",
       "      <td>...</td>\n",
       "      <td>0.215397</td>\n",
       "      <td>-0.238961</td>\n",
       "      <td>2.839118e-02</td>\n",
       "      <td>0.373077</td>\n",
       "      <td>0.482041</td>\n",
       "      <td>0.330470</td>\n",
       "      <td>0.574416</td>\n",
       "      <td>0.531915</td>\n",
       "      <td>0.296795</td>\n",
       "      <td>0.342500</td>\n",
       "    </tr>\n",
       "    <tr>\n",
       "      <th>12809</th>\n",
       "      <td>ZWE</td>\n",
       "      <td>Zimbabwe</td>\n",
       "      <td>US Dollar</td>\n",
       "      <td>2019</td>\n",
       "      <td>42296.062500</td>\n",
       "      <td>40826.570312</td>\n",
       "      <td>14.645468</td>\n",
       "      <td>6.831017</td>\n",
       "      <td>NaN</td>\n",
       "      <td>2.713408</td>\n",
       "      <td>...</td>\n",
       "      <td>0.213562</td>\n",
       "      <td>-0.270959</td>\n",
       "      <td>-8.979837e-02</td>\n",
       "      <td>0.494755</td>\n",
       "      <td>0.652439</td>\n",
       "      <td>0.500927</td>\n",
       "      <td>0.487763</td>\n",
       "      <td>0.430082</td>\n",
       "      <td>0.420675</td>\n",
       "      <td>1.384638</td>\n",
       "    </tr>\n",
       "  </tbody>\n",
       "</table>\n",
       "<p>183 rows × 52 columns</p>\n",
       "</div>"
      ],
      "text/plain": [
       "      countrycode               country          currency_unit  year  \\\n",
       "69            ABW                 Aruba         Aruban Guilder  2019   \n",
       "139           AGO                Angola                 Kwanza  2019   \n",
       "209           AIA              Anguilla  East Caribbean Dollar  2019   \n",
       "279           ALB               Albania                    Lek  2019   \n",
       "349           ARE  United Arab Emirates             UAE Dirham  2019   \n",
       "...           ...                   ...                    ...   ...   \n",
       "12529         VNM              Viet Nam                   Dong  2019   \n",
       "12599         YEM                 Yemen            Yemeni Rial  2019   \n",
       "12669         ZAF          South Africa                   Rand  2019   \n",
       "12739         ZMB                Zambia                 Kwacha  2019   \n",
       "12809         ZWE              Zimbabwe              US Dollar  2019   \n",
       "\n",
       "               rgdpe          rgdpo        pop        emp          avh  \\\n",
       "69       3921.261230    3467.299561   0.106314   0.047601          NaN   \n",
       "139    228151.015625  227855.718750  31.825295  16.644962          NaN   \n",
       "209       376.634979     225.680527   0.014869        NaN          NaN   \n",
       "279     35890.019531   36103.042969   2.880917   1.075898          NaN   \n",
       "349    681525.812500  645956.250000   9.770529   5.808834          NaN   \n",
       "...              ...            ...        ...        ...          ...   \n",
       "12529  750726.750000  724123.375000  96.462106  50.399563  2131.968232   \n",
       "12599   50052.933594   51828.058594  29.161922   5.531877          NaN   \n",
       "12669  748940.000000  734094.375000  58.558270  18.642710  2191.363362   \n",
       "12739   57956.183594   56783.714844  17.861030   5.225448          NaN   \n",
       "12809   42296.062500   40826.570312  14.645468   6.831017          NaN   \n",
       "\n",
       "             hc  ...     csh_x     csh_m         csh_r      pl_c      pl_i  \\\n",
       "69          NaN  ...  0.973115 -1.091808  2.125691e-07  0.883092  0.815759   \n",
       "139    1.481984  ...  0.344351 -0.113983 -1.204703e-01  0.438169  0.342872   \n",
       "209         NaN  ...  1.480300 -2.445801 -1.433542e-01  1.064513  1.029199   \n",
       "279    2.964992  ...  0.126594 -0.313949  6.114468e-02  0.473077  0.456882   \n",
       "349    2.746695  ...  0.889652 -0.701231 -4.849206e-07  0.725061  0.480580   \n",
       "...         ...  ...       ...       ...           ...       ...       ...   \n",
       "12529  2.869998  ...  0.526032 -0.518066 -5.730492e-02  0.347591  0.399158   \n",
       "12599  1.842989  ...  0.000723 -0.135297 -1.733917e-01  0.777612  0.238807   \n",
       "12669  2.908202  ...  0.184207 -0.198112  4.914912e-03  0.463660  0.523813   \n",
       "12739  2.686845  ...  0.215397 -0.238961  2.839118e-02  0.373077  0.482041   \n",
       "12809  2.713408  ...  0.213562 -0.270959 -8.979837e-02  0.494755  0.652439   \n",
       "\n",
       "           pl_g      pl_x      pl_m      pl_n      pl_k  \n",
       "69     0.744329  0.707260  0.622660  0.813961  0.616658  \n",
       "139    0.240024  0.476486  0.611627  0.209101  0.378172  \n",
       "209    0.732212  0.768944  0.602734  0.902942       NaN  \n",
       "279    0.235589  0.629832  0.525463  0.299344       NaN  \n",
       "349    0.692488  0.688882  0.647336  0.268754       NaN  \n",
       "...         ...       ...       ...       ...       ...  \n",
       "12529  0.245056  0.695617  0.676502  0.249071       NaN  \n",
       "12599  0.211786  0.632594  0.670528  0.171695       NaN  \n",
       "12669  0.447869  0.660216  0.604546  0.312701  0.515316  \n",
       "12739  0.330470  0.574416  0.531915  0.296795  0.342500  \n",
       "12809  0.500927  0.487763  0.430082  0.420675  1.384638  \n",
       "\n",
       "[183 rows x 52 columns]"
      ]
     },
     "execution_count": 7,
     "metadata": {},
     "output_type": "execute_result"
    }
   ],
   "source": [
    "latest"
   ]
  },
  {
   "cell_type": "markdown",
   "metadata": {},
   "source": [
    "Distribution of log GDP in 2018"
   ]
  },
  {
   "cell_type": "code",
   "execution_count": 8,
   "metadata": {},
   "outputs": [
    {
     "data": {
      "text/plain": [
       "Text(0.5, 1.0, 'Real GDP at current PPPs')"
      ]
     },
     "execution_count": 8,
     "metadata": {},
     "output_type": "execute_result"
    },
    {
     "data": {
      "image/png": "[encoded data removed]",
      "text/plain": [
       "<Figure size 1152x576 with 1 Axes>"
      ]
     },
     "metadata": {
      "needs_background": "light"
     },
     "output_type": "display_data"
    }
   ],
   "source": [
    "np.log(latest['cgdpe']).hist()\n",
    "plt.title('Real GDP at current PPPs')"
   ]
  },
  {
   "cell_type": "code",
   "execution_count": 9,
   "metadata": {
    "scrolled": true
   },
   "outputs": [
    {
     "data": {
      "text/plain": [
       "Text(0.5, 1.0, 'Real GDP at national prices')"
      ]
     },
     "execution_count": 9,
     "metadata": {},
     "output_type": "execute_result"
    },
    {
     "data": {
      "image/png": "[encoded data removed]",
      "text/plain": [
       "<Figure size 1152x576 with 1 Axes>"
      ]
     },
     "metadata": {
      "needs_background": "light"
     },
     "output_type": "display_data"
    }
   ],
   "source": [
    "np.log(latest['rgdpna']).hist()\n",
    "plt.title('Real GDP at national prices')"
   ]
  },
  {
   "cell_type": "markdown",
   "metadata": {},
   "source": [
    "### At PPP prices"
   ]
  },
  {
   "cell_type": "code",
   "execution_count": 10,
   "metadata": {},
   "outputs": [
    {
     "data": {
      "text/plain": [
       "125030080.0"
      ]
     },
     "execution_count": 10,
     "metadata": {},
     "output_type": "execute_result"
    }
   ],
   "source": [
    "latest['cgdpe'].sum()"
   ]
  },
  {
   "cell_type": "markdown",
   "metadata": {},
   "source": [
    "Share of world GDP"
   ]
  },
  {
   "cell_type": "code",
   "execution_count": 11,
   "metadata": {},
   "outputs": [
    {
     "name": "stderr",
     "output_type": "stream",
     "text": [
      "<ipython-input-11-8c08dd8e5b98>:1: SettingWithCopyWarning: \n",
      "A value is trying to be set on a copy of a slice from a DataFrame.\n",
      "Try using .loc[row_indexer,col_indexer] = value instead\n",
      "\n",
      "See the caveats in the documentation: https://pandas.pydata.org/pandas-docs/stable/user_guide/indexing.html#returning-a-view-versus-a-copy\n",
      "  latest['cgdpe_sh']=100*latest['cgdpe']/(latest['cgdpe'].sum())\n"
     ]
    }
   ],
   "source": [
    "latest['cgdpe_sh']=100*latest['cgdpe']/(latest['cgdpe'].sum())"
   ]
  },
  {
   "cell_type": "code",
   "execution_count": 12,
   "metadata": {},
   "outputs": [
    {
     "data": {
      "text/plain": [
       "100.000015"
      ]
     },
     "execution_count": 12,
     "metadata": {},
     "output_type": "execute_result"
    }
   ],
   "source": [
    "latest['cgdpe_sh'].sum()"
   ]
  },
  {
   "cell_type": "code",
   "execution_count": 13,
   "metadata": {
    "scrolled": true
   },
   "outputs": [
    {
     "name": "stderr",
     "output_type": "stream",
     "text": [
      "<ipython-input-13-9eae3a29f86f>:1: SettingWithCopyWarning: \n",
      "A value is trying to be set on a copy of a slice from a DataFrame\n",
      "\n",
      "See the caveats in the documentation: https://pandas.pydata.org/pandas-docs/stable/user_guide/indexing.html#returning-a-view-versus-a-copy\n",
      "  latest.sort_values(by=['cgdpe_sh'],ascending=False,inplace=True)\n"
     ]
    }
   ],
   "source": [
    "latest.sort_values(by=['cgdpe_sh'],ascending=False,inplace=True)"
   ]
  },
  {
   "cell_type": "code",
   "execution_count": 14,
   "metadata": {},
   "outputs": [
    {
     "name": "stderr",
     "output_type": "stream",
     "text": [
      "<ipython-input-14-bb9a19d8ca9e>:1: SettingWithCopyWarning: \n",
      "A value is trying to be set on a copy of a slice from a DataFrame.\n",
      "Try using .loc[row_indexer,col_indexer] = value instead\n",
      "\n",
      "See the caveats in the documentation: https://pandas.pydata.org/pandas-docs/stable/user_guide/indexing.html#returning-a-view-versus-a-copy\n",
      "  latest['cgdpe_csh']=latest['cgdpe_sh'].cumsum()\n"
     ]
    }
   ],
   "source": [
    "latest['cgdpe_csh']=latest['cgdpe_sh'].cumsum()"
   ]
  },
  {
   "cell_type": "code",
   "execution_count": 15,
   "metadata": {
    "scrolled": true
   },
   "outputs": [
    {
     "data": {
      "text/html": [
       "<div>\n",
       "<style scoped>\n",
       "    .dataframe tbody tr th:only-of-type {\n",
       "        vertical-align: middle;\n",
       "    }\n",
       "\n",
       "    .dataframe tbody tr th {\n",
       "        vertical-align: top;\n",
       "    }\n",
       "\n",
       "    .dataframe thead th {\n",
       "        text-align: right;\n",
       "    }\n",
       "</style>\n",
       "<table border=\"1\" class=\"dataframe\">\n",
       "  <thead>\n",
       "    <tr style=\"text-align: right;\">\n",
       "      <th></th>\n",
       "      <th>countrycode</th>\n",
       "      <th>country</th>\n",
       "      <th>cgdpe_sh</th>\n",
       "      <th>cgdpe_csh</th>\n",
       "    </tr>\n",
       "  </thead>\n",
       "  <tbody>\n",
       "    <tr>\n",
       "      <th>12179</th>\n",
       "      <td>USA</td>\n",
       "      <td>United States</td>\n",
       "      <td>16.629089</td>\n",
       "      <td>16.629089</td>\n",
       "    </tr>\n",
       "    <tr>\n",
       "      <th>2379</th>\n",
       "      <td>CHN</td>\n",
       "      <td>China</td>\n",
       "      <td>15.931378</td>\n",
       "      <td>32.560467</td>\n",
       "    </tr>\n",
       "    <tr>\n",
       "      <th>5529</th>\n",
       "      <td>IND</td>\n",
       "      <td>India</td>\n",
       "      <td>7.118549</td>\n",
       "      <td>39.679016</td>\n",
       "    </tr>\n",
       "    <tr>\n",
       "      <th>6159</th>\n",
       "      <td>JPN</td>\n",
       "      <td>Japan</td>\n",
       "      <td>4.011856</td>\n",
       "      <td>43.690872</td>\n",
       "    </tr>\n",
       "    <tr>\n",
       "      <th>3289</th>\n",
       "      <td>DEU</td>\n",
       "      <td>Germany</td>\n",
       "      <td>3.437486</td>\n",
       "      <td>47.128357</td>\n",
       "    </tr>\n",
       "    <tr>\n",
       "      <th>9939</th>\n",
       "      <td>RUS</td>\n",
       "      <td>Russian Federation</td>\n",
       "      <td>3.355614</td>\n",
       "      <td>50.483971</td>\n",
       "    </tr>\n",
       "    <tr>\n",
       "      <th>4339</th>\n",
       "      <td>GBR</td>\n",
       "      <td>United Kingdom</td>\n",
       "      <td>2.487797</td>\n",
       "      <td>52.971767</td>\n",
       "    </tr>\n",
       "    <tr>\n",
       "      <th>5459</th>\n",
       "      <td>IDN</td>\n",
       "      <td>Indonesia</td>\n",
       "      <td>2.469287</td>\n",
       "      <td>55.441055</td>\n",
       "    </tr>\n",
       "    <tr>\n",
       "      <th>1749</th>\n",
       "      <td>BRA</td>\n",
       "      <td>Brazil</td>\n",
       "      <td>2.467174</td>\n",
       "      <td>57.908230</td>\n",
       "    </tr>\n",
       "    <tr>\n",
       "      <th>4199</th>\n",
       "      <td>FRA</td>\n",
       "      <td>France</td>\n",
       "      <td>2.407600</td>\n",
       "      <td>60.315830</td>\n",
       "    </tr>\n",
       "  </tbody>\n",
       "</table>\n",
       "</div>"
      ],
      "text/plain": [
       "      countrycode             country   cgdpe_sh  cgdpe_csh\n",
       "12179         USA       United States  16.629089  16.629089\n",
       "2379          CHN               China  15.931378  32.560467\n",
       "5529          IND               India   7.118549  39.679016\n",
       "6159          JPN               Japan   4.011856  43.690872\n",
       "3289          DEU             Germany   3.437486  47.128357\n",
       "9939          RUS  Russian Federation   3.355614  50.483971\n",
       "4339          GBR      United Kingdom   2.487797  52.971767\n",
       "5459          IDN           Indonesia   2.469287  55.441055\n",
       "1749          BRA              Brazil   2.467174  57.908230\n",
       "4199          FRA              France   2.407600  60.315830"
      ]
     },
     "execution_count": 15,
     "metadata": {},
     "output_type": "execute_result"
    }
   ],
   "source": [
    "latest[['countrycode','country','cgdpe_sh','cgdpe_csh']].head(n=10)"
   ]
  },
  {
   "cell_type": "markdown",
   "metadata": {},
   "source": [
    "### At constant prices"
   ]
  },
  {
   "cell_type": "code",
   "execution_count": 16,
   "metadata": {},
   "outputs": [
    {
     "data": {
      "text/plain": [
       "125254930.0"
      ]
     },
     "execution_count": 16,
     "metadata": {},
     "output_type": "execute_result"
    }
   ],
   "source": [
    "latest['rgdpna'].sum()"
   ]
  },
  {
   "cell_type": "markdown",
   "metadata": {},
   "source": [
    "Share of world GDP"
   ]
  },
  {
   "cell_type": "code",
   "execution_count": 17,
   "metadata": {},
   "outputs": [
    {
     "name": "stderr",
     "output_type": "stream",
     "text": [
      "<ipython-input-17-f02815fb6dee>:1: SettingWithCopyWarning: \n",
      "A value is trying to be set on a copy of a slice from a DataFrame.\n",
      "Try using .loc[row_indexer,col_indexer] = value instead\n",
      "\n",
      "See the caveats in the documentation: https://pandas.pydata.org/pandas-docs/stable/user_guide/indexing.html#returning-a-view-versus-a-copy\n",
      "  latest['rgdpna_sh']=100*latest['rgdpna']/(latest['rgdpna'].sum())\n"
     ]
    }
   ],
   "source": [
    "latest['rgdpna_sh']=100*latest['rgdpna']/(latest['rgdpna'].sum())"
   ]
  },
  {
   "cell_type": "code",
   "execution_count": 18,
   "metadata": {},
   "outputs": [
    {
     "data": {
      "text/plain": [
       "100.0"
      ]
     },
     "execution_count": 18,
     "metadata": {},
     "output_type": "execute_result"
    }
   ],
   "source": [
    "latest['rgdpna_sh'].sum()"
   ]
  },
  {
   "cell_type": "code",
   "execution_count": 19,
   "metadata": {
    "scrolled": true
   },
   "outputs": [
    {
     "name": "stderr",
     "output_type": "stream",
     "text": [
      "<ipython-input-19-19b3ce1bd8f1>:1: SettingWithCopyWarning: \n",
      "A value is trying to be set on a copy of a slice from a DataFrame\n",
      "\n",
      "See the caveats in the documentation: https://pandas.pydata.org/pandas-docs/stable/user_guide/indexing.html#returning-a-view-versus-a-copy\n",
      "  latest.sort_values(by=['rgdpna_sh'],ascending=False,inplace=True)\n"
     ]
    }
   ],
   "source": [
    "latest.sort_values(by=['rgdpna_sh'],ascending=False,inplace=True)"
   ]
  },
  {
   "cell_type": "code",
   "execution_count": 20,
   "metadata": {},
   "outputs": [
    {
     "name": "stderr",
     "output_type": "stream",
     "text": [
      "<ipython-input-20-648f451b19c2>:1: SettingWithCopyWarning: \n",
      "A value is trying to be set on a copy of a slice from a DataFrame.\n",
      "Try using .loc[row_indexer,col_indexer] = value instead\n",
      "\n",
      "See the caveats in the documentation: https://pandas.pydata.org/pandas-docs/stable/user_guide/indexing.html#returning-a-view-versus-a-copy\n",
      "  latest['rgdpna_csh']=latest['rgdpna_sh'].cumsum()\n"
     ]
    }
   ],
   "source": [
    "latest['rgdpna_csh']=latest['rgdpna_sh'].cumsum()"
   ]
  },
  {
   "cell_type": "code",
   "execution_count": 21,
   "metadata": {},
   "outputs": [
    {
     "data": {
      "text/html": [
       "<div>\n",
       "<style scoped>\n",
       "    .dataframe tbody tr th:only-of-type {\n",
       "        vertical-align: middle;\n",
       "    }\n",
       "\n",
       "    .dataframe tbody tr th {\n",
       "        vertical-align: top;\n",
       "    }\n",
       "\n",
       "    .dataframe thead th {\n",
       "        text-align: right;\n",
       "    }\n",
       "</style>\n",
       "<table border=\"1\" class=\"dataframe\">\n",
       "  <thead>\n",
       "    <tr style=\"text-align: right;\">\n",
       "      <th></th>\n",
       "      <th>countrycode</th>\n",
       "      <th>country</th>\n",
       "      <th>rgdpna_sh</th>\n",
       "      <th>rgdpna_csh</th>\n",
       "    </tr>\n",
       "  </thead>\n",
       "  <tbody>\n",
       "    <tr>\n",
       "      <th>2379</th>\n",
       "      <td>CHN</td>\n",
       "      <td>China</td>\n",
       "      <td>16.424587</td>\n",
       "      <td>16.424587</td>\n",
       "    </tr>\n",
       "    <tr>\n",
       "      <th>12179</th>\n",
       "      <td>USA</td>\n",
       "      <td>United States</td>\n",
       "      <td>16.417391</td>\n",
       "      <td>32.841980</td>\n",
       "    </tr>\n",
       "    <tr>\n",
       "      <th>5529</th>\n",
       "      <td>IND</td>\n",
       "      <td>India</td>\n",
       "      <td>7.315522</td>\n",
       "      <td>40.157501</td>\n",
       "    </tr>\n",
       "    <tr>\n",
       "      <th>6159</th>\n",
       "      <td>JPN</td>\n",
       "      <td>Japan</td>\n",
       "      <td>4.071101</td>\n",
       "      <td>44.228603</td>\n",
       "    </tr>\n",
       "    <tr>\n",
       "      <th>3289</th>\n",
       "      <td>DEU</td>\n",
       "      <td>Germany</td>\n",
       "      <td>3.444230</td>\n",
       "      <td>47.672832</td>\n",
       "    </tr>\n",
       "    <tr>\n",
       "      <th>9939</th>\n",
       "      <td>RUS</td>\n",
       "      <td>Russian Federation</td>\n",
       "      <td>3.235150</td>\n",
       "      <td>50.907982</td>\n",
       "    </tr>\n",
       "    <tr>\n",
       "      <th>5459</th>\n",
       "      <td>IDN</td>\n",
       "      <td>Indonesia</td>\n",
       "      <td>2.483311</td>\n",
       "      <td>53.391293</td>\n",
       "    </tr>\n",
       "    <tr>\n",
       "      <th>1749</th>\n",
       "      <td>BRA</td>\n",
       "      <td>Brazil</td>\n",
       "      <td>2.428742</td>\n",
       "      <td>55.820034</td>\n",
       "    </tr>\n",
       "    <tr>\n",
       "      <th>4339</th>\n",
       "      <td>GBR</td>\n",
       "      <td>United Kingdom</td>\n",
       "      <td>2.408444</td>\n",
       "      <td>58.228477</td>\n",
       "    </tr>\n",
       "    <tr>\n",
       "      <th>4199</th>\n",
       "      <td>FRA</td>\n",
       "      <td>France</td>\n",
       "      <td>2.367443</td>\n",
       "      <td>60.595921</td>\n",
       "    </tr>\n",
       "  </tbody>\n",
       "</table>\n",
       "</div>"
      ],
      "text/plain": [
       "      countrycode             country  rgdpna_sh  rgdpna_csh\n",
       "2379          CHN               China  16.424587   16.424587\n",
       "12179         USA       United States  16.417391   32.841980\n",
       "5529          IND               India   7.315522   40.157501\n",
       "6159          JPN               Japan   4.071101   44.228603\n",
       "3289          DEU             Germany   3.444230   47.672832\n",
       "9939          RUS  Russian Federation   3.235150   50.907982\n",
       "5459          IDN           Indonesia   2.483311   53.391293\n",
       "1749          BRA              Brazil   2.428742   55.820034\n",
       "4339          GBR      United Kingdom   2.408444   58.228477\n",
       "4199          FRA              France   2.367443   60.595921"
      ]
     },
     "execution_count": 21,
     "metadata": {},
     "output_type": "execute_result"
    }
   ],
   "source": [
    "latest[['countrycode','country','rgdpna_sh','rgdpna_csh']].head(n=10)"
   ]
  },
  {
   "cell_type": "code",
   "execution_count": null,
   "metadata": {},
   "outputs": [],
   "source": []
  }
 ],
 "metadata": {
  "kernelspec": {
   "display_name": "Python 3 (ipykernel)",
   "language": "python",
   "name": "python3"
  },
  "language_info": {
   "codemirror_mode": {
    "name": "ipython",
    "version": 3
   },
   "file_extension": ".py",
   "mimetype": "text/x-python",
   "name": "python",
   "nbconvert_exporter": "python",
   "pygments_lexer": "ipython3",
   "version": "3.9.12"
  }
 },
 "nbformat": 4,
 "nbformat_minor": 4
}
