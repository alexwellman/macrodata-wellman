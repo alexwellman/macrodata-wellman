{
 "cells": [
  {
   "cell_type": "markdown",
   "metadata": {},
   "source": [
    "## Econ 212"
   ]
  },
  {
   "cell_type": "code",
   "execution_count": 17,
   "metadata": {},
   "outputs": [],
   "source": [
    "import pandas as pd\n",
    "import numpy as np\n",
    "import matplotlib.pyplot as plt\n",
    "import statsmodels.api as sm # HP filter and OLS regression\n",
    "import datetime\n",
    "from datetime import datetime as dt\n",
    "import matplotlib.dates as mdates"
   ]
  },
  {
   "cell_type": "code",
   "execution_count": 18,
   "metadata": {},
   "outputs": [],
   "source": [
    "plt.rcParams['figure.figsize'] = [16, 8]\n",
    "plt.rcParams['font.size'] = 22\n",
    "plt.rcParams['lines.linewidth'] = 2.5"
   ]
  },
  {
   "cell_type": "code",
   "execution_count": 19,
   "metadata": {},
   "outputs": [],
   "source": [
    "import data_load"
   ]
  },
  {
   "cell_type": "markdown",
   "metadata": {},
   "source": [
    "Function to take best linear fit, decadal average growth"
   ]
  },
  {
   "cell_type": "code",
   "execution_count": 20,
   "metadata": {},
   "outputs": [],
   "source": [
    "def reg_fit(Y,X, verbose=False):\n",
    "    X = sm.add_constant(X)\n",
    "    model=sm.OLS(Y,X)\n",
    "    results = model.fit()\n",
    "    if verbose:\n",
    "        print(results.summary())\n",
    "    return results.predict(), results.params\n",
    "\n",
    "def decadal_average_growth(ser, dec=False):\n",
    "    if dec:\n",
    "        # Actual decadal growh\n",
    "        t=ser.loc['1950-03-31':'1959-12-31']\n",
    "        nq=t.index.size\n",
    "        print('Average for 1950s :', round(np.log(t[-1]/t[0])/(nq/4),4))\n",
    "\n",
    "        t=ser.loc['1960-03-31':'1969-12-31']\n",
    "        nq=t.index.size\n",
    "        print('Average for 1960s :', round(np.log(t[-1]/t[0])/(nq/4),4))\n",
    "\n",
    "        t=ser.loc['1970-03-31':'1979-12-31']\n",
    "        nq=t.index.size\n",
    "        print('Average for 1970s :', round(np.log(t[-1]/t[0])/(nq/4),4))\n",
    "\n",
    "        t=ser.loc['1980-03-31':'1989-12-31']\n",
    "        nq=t.index.size\n",
    "        print('Average for 1980s :', round(np.log(t[-1]/t[0])/(nq/4),4))  \n",
    "\n",
    "        t=ser.loc['1990-03-31':'1999-12-31']\n",
    "        nq=t.index.size\n",
    "        print('Average for 1990s :', round(np.log(t[-1]/t[0])/(nq/4),4))\n",
    "\n",
    "        t=ser.loc['2000-03-31':'2009-12-31']\n",
    "        nq=t.index.size\n",
    "        print('Average for 2000s :', round(np.log(t[-1]/t[0])/(nq/4),4))\n",
    "\n",
    "        t=ser.loc['2010-03-31':'2019-12-31']\n",
    "        nq=t.index.size\n",
    "        print('Average for 2010s :', round(np.log(t[-1]/t[0])/(nq/4),4))\n",
    "    else:\n",
    "        # 20-year growth\n",
    "        t=ser.loc['1950-03-31':'1969-12-31']\n",
    "        nq=t.index.size\n",
    "        print('Average for 1950/60 :', round(np.log(t[-1]/t[0])/(nq/4),4))\n",
    "\n",
    "        t=ser.loc['1970-03-31':'1999-12-31']\n",
    "        nq=t.index.size\n",
    "        print('Average for 1970/80 :', round(np.log(t[-1]/t[0])/(nq/4),4))\n",
    "\n",
    "        t=ser.loc['2000-03-31':'2019-12-31']\n",
    "        nq=t.index.size\n",
    "        print('Average for 2000/10 :', round(np.log(t[-1]/t[0])/(nq/4),4))\n"
   ]
  },
  {
   "cell_type": "markdown",
   "metadata": {},
   "source": [
    "# Quarterly data"
   ]
  },
  {
   "cell_type": "markdown",
   "metadata": {},
   "source": [
    "Load data, can use either `same_def` or `own_def` for own deflator"
   ]
  },
  {
   "cell_type": "code",
   "execution_count": 21,
   "metadata": {},
   "outputs": [],
   "source": [
    "series = data_load.get_fred_data('Q','own_def')"
   ]
  },
  {
   "cell_type": "code",
   "execution_count": 22,
   "metadata": {},
   "outputs": [],
   "source": [
    "stateu = data_load.get_state_u_data('Q')"
   ]
  },
  {
   "cell_type": "markdown",
   "metadata": {},
   "source": [
    "#### Sample selection"
   ]
  },
  {
   "cell_type": "code",
   "execution_count": 28,
   "metadata": {},
   "outputs": [],
   "source": [
    "# Drop the last entry from the DataFrame\n",
    "series = series.drop(series.tail(1).index)  # This removes the last row"
   ]
  },
  {
   "cell_type": "code",
   "execution_count": 29,
   "metadata": {
    "scrolled": false
   },
   "outputs": [
    {
     "data": {
      "text/html": [
       "<div>\n",
       "<style scoped>\n",
       "    .dataframe tbody tr th:only-of-type {\n",
       "        vertical-align: middle;\n",
       "    }\n",
       "\n",
       "    .dataframe tbody tr th {\n",
       "        vertical-align: top;\n",
       "    }\n",
       "\n",
       "    .dataframe thead th {\n",
       "        text-align: right;\n",
       "    }\n",
       "</style>\n",
       "<table border=\"1\" class=\"dataframe\">\n",
       "  <thead>\n",
       "    <tr style=\"text-align: right;\">\n",
       "      <th></th>\n",
       "      <th>yn</th>\n",
       "      <th>cn</th>\n",
       "      <th>gn</th>\n",
       "      <th>in</th>\n",
       "      <th>nxn</th>\n",
       "      <th>impn</th>\n",
       "      <th>expn</th>\n",
       "      <th>y</th>\n",
       "      <th>c</th>\n",
       "      <th>g</th>\n",
       "      <th>...</th>\n",
       "      <th>w</th>\n",
       "      <th>u</th>\n",
       "      <th>USREC</th>\n",
       "      <th>k</th>\n",
       "      <th>ypotn</th>\n",
       "      <th>ypot</th>\n",
       "      <th>totres</th>\n",
       "      <th>ioer</th>\n",
       "      <th>dgs10</th>\n",
       "      <th>breakeven10</th>\n",
       "    </tr>\n",
       "    <tr>\n",
       "      <th>date</th>\n",
       "      <th></th>\n",
       "      <th></th>\n",
       "      <th></th>\n",
       "      <th></th>\n",
       "      <th></th>\n",
       "      <th></th>\n",
       "      <th></th>\n",
       "      <th></th>\n",
       "      <th></th>\n",
       "      <th></th>\n",
       "      <th></th>\n",
       "      <th></th>\n",
       "      <th></th>\n",
       "      <th></th>\n",
       "      <th></th>\n",
       "      <th></th>\n",
       "      <th></th>\n",
       "      <th></th>\n",
       "      <th></th>\n",
       "      <th></th>\n",
       "      <th></th>\n",
       "    </tr>\n",
       "  </thead>\n",
       "  <tbody>\n",
       "    <tr>\n",
       "      <th>2022-03-31</th>\n",
       "      <td>25029.116</td>\n",
       "      <td>17030.634</td>\n",
       "      <td>4321.404</td>\n",
       "      <td>4766.754</td>\n",
       "      <td>-1089.677</td>\n",
       "      <td>3927.291</td>\n",
       "      <td>2837.615</td>\n",
       "      <td>21738.871</td>\n",
       "      <td>14995.228</td>\n",
       "      <td>3658.819</td>\n",
       "      <td>...</td>\n",
       "      <td>124.750</td>\n",
       "      <td>3.800000</td>\n",
       "      <td>0.0</td>\n",
       "      <td>69059464.0</td>\n",
       "      <td>24906.62</td>\n",
       "      <td>20057.88</td>\n",
       "      <td>3850.100000</td>\n",
       "      <td>NaN</td>\n",
       "      <td>1.951129</td>\n",
       "      <td>2.599355</td>\n",
       "    </tr>\n",
       "    <tr>\n",
       "      <th>2022-06-30</th>\n",
       "      <td>25544.273</td>\n",
       "      <td>17415.115</td>\n",
       "      <td>4415.676</td>\n",
       "      <td>4739.049</td>\n",
       "      <td>-1025.567</td>\n",
       "      <td>4069.839</td>\n",
       "      <td>3044.272</td>\n",
       "      <td>21708.160</td>\n",
       "      <td>15069.169</td>\n",
       "      <td>3641.161</td>\n",
       "      <td>...</td>\n",
       "      <td>125.205</td>\n",
       "      <td>3.600000</td>\n",
       "      <td>0.0</td>\n",
       "      <td>69059464.0</td>\n",
       "      <td>25576.56</td>\n",
       "      <td>20153.81</td>\n",
       "      <td>3387.233333</td>\n",
       "      <td>NaN</td>\n",
       "      <td>2.932581</td>\n",
       "      <td>2.727581</td>\n",
       "    </tr>\n",
       "    <tr>\n",
       "      <th>2022-09-30</th>\n",
       "      <td>25994.639</td>\n",
       "      <td>17684.189</td>\n",
       "      <td>4477.855</td>\n",
       "      <td>4724.621</td>\n",
       "      <td>-892.026</td>\n",
       "      <td>3976.524</td>\n",
       "      <td>3084.498</td>\n",
       "      <td>21851.134</td>\n",
       "      <td>15127.399</td>\n",
       "      <td>3666.982</td>\n",
       "      <td>...</td>\n",
       "      <td>127.365</td>\n",
       "      <td>3.566667</td>\n",
       "      <td>0.0</td>\n",
       "      <td>69059464.0</td>\n",
       "      <td>25968.85</td>\n",
       "      <td>20245.66</td>\n",
       "      <td>3232.000000</td>\n",
       "      <td>NaN</td>\n",
       "      <td>3.101094</td>\n",
       "      <td>2.421250</td>\n",
       "    </tr>\n",
       "    <tr>\n",
       "      <th>2022-12-31</th>\n",
       "      <td>26408.405</td>\n",
       "      <td>17917.039</td>\n",
       "      <td>4572.408</td>\n",
       "      <td>4796.162</td>\n",
       "      <td>-877.204</td>\n",
       "      <td>3891.004</td>\n",
       "      <td>3013.800</td>\n",
       "      <td>21989.981</td>\n",
       "      <td>15171.391</td>\n",
       "      <td>3714.800</td>\n",
       "      <td>...</td>\n",
       "      <td>127.205</td>\n",
       "      <td>3.600000</td>\n",
       "      <td>0.0</td>\n",
       "      <td>69059464.0</td>\n",
       "      <td>26334.48</td>\n",
       "      <td>20334.21</td>\n",
       "      <td>3096.400000</td>\n",
       "      <td>NaN</td>\n",
       "      <td>3.826721</td>\n",
       "      <td>2.340000</td>\n",
       "    </tr>\n",
       "    <tr>\n",
       "      <th>2023-03-31</th>\n",
       "      <td>26813.601</td>\n",
       "      <td>18269.569</td>\n",
       "      <td>4643.890</td>\n",
       "      <td>4725.828</td>\n",
       "      <td>-825.687</td>\n",
       "      <td>3890.491</td>\n",
       "      <td>3064.804</td>\n",
       "      <td>22112.329</td>\n",
       "      <td>15312.850</td>\n",
       "      <td>3758.768</td>\n",
       "      <td>...</td>\n",
       "      <td>129.233</td>\n",
       "      <td>3.500000</td>\n",
       "      <td>0.0</td>\n",
       "      <td>69059464.0</td>\n",
       "      <td>26714.29</td>\n",
       "      <td>20420.68</td>\n",
       "      <td>3103.366667</td>\n",
       "      <td>NaN</td>\n",
       "      <td>3.646290</td>\n",
       "      <td>2.290806</td>\n",
       "    </tr>\n",
       "  </tbody>\n",
       "</table>\n",
       "<p>5 rows × 38 columns</p>\n",
       "</div>"
      ],
      "text/plain": [
       "                   yn         cn        gn        in       nxn      impn  \\\n",
       "date                                                                       \n",
       "2022-03-31  25029.116  17030.634  4321.404  4766.754 -1089.677  3927.291   \n",
       "2022-06-30  25544.273  17415.115  4415.676  4739.049 -1025.567  4069.839   \n",
       "2022-09-30  25994.639  17684.189  4477.855  4724.621  -892.026  3976.524   \n",
       "2022-12-31  26408.405  17917.039  4572.408  4796.162  -877.204  3891.004   \n",
       "2023-03-31  26813.601  18269.569  4643.890  4725.828  -825.687  3890.491   \n",
       "\n",
       "                expn          y          c         g  ...        w         u  \\\n",
       "date                                                  ...                      \n",
       "2022-03-31  2837.615  21738.871  14995.228  3658.819  ...  124.750  3.800000   \n",
       "2022-06-30  3044.272  21708.160  15069.169  3641.161  ...  125.205  3.600000   \n",
       "2022-09-30  3084.498  21851.134  15127.399  3666.982  ...  127.365  3.566667   \n",
       "2022-12-31  3013.800  21989.981  15171.391  3714.800  ...  127.205  3.600000   \n",
       "2023-03-31  3064.804  22112.329  15312.850  3758.768  ...  129.233  3.500000   \n",
       "\n",
       "            USREC           k     ypotn      ypot       totres  ioer  \\\n",
       "date                                                                   \n",
       "2022-03-31    0.0  69059464.0  24906.62  20057.88  3850.100000   NaN   \n",
       "2022-06-30    0.0  69059464.0  25576.56  20153.81  3387.233333   NaN   \n",
       "2022-09-30    0.0  69059464.0  25968.85  20245.66  3232.000000   NaN   \n",
       "2022-12-31    0.0  69059464.0  26334.48  20334.21  3096.400000   NaN   \n",
       "2023-03-31    0.0  69059464.0  26714.29  20420.68  3103.366667   NaN   \n",
       "\n",
       "               dgs10  breakeven10  \n",
       "date                               \n",
       "2022-03-31  1.951129     2.599355  \n",
       "2022-06-30  2.932581     2.727581  \n",
       "2022-09-30  3.101094     2.421250  \n",
       "2022-12-31  3.826721     2.340000  \n",
       "2023-03-31  3.646290     2.290806  \n",
       "\n",
       "[5 rows x 38 columns]"
      ]
     },
     "execution_count": 29,
     "metadata": {},
     "output_type": "execute_result"
    }
   ],
   "source": [
    "series = series.loc['1952-03-31':dt.now().strftime('%Y-%m-%d')]\n",
    "series.tail()"
   ]
  },
  {
   "cell_type": "markdown",
   "metadata": {},
   "source": [
    "#### Construct extra variables"
   ]
  },
  {
   "cell_type": "code",
   "execution_count": 30,
   "metadata": {},
   "outputs": [],
   "source": [
    "NQ=series.index.size # Number of quarters in data\n",
    "series['ypop']=series['y']/series['pop'] # Output per person\n",
    "series['t']=np.arange(0,NQ) # Output per person"
   ]
  },
  {
   "cell_type": "markdown",
   "metadata": {},
   "source": [
    "## Begin Graphs"
   ]
  },
  {
   "cell_type": "markdown",
   "metadata": {},
   "source": [
    "## GDP per Person vs a linear trend (Figure 1 Lecture 1)"
   ]
  },
  {
   "cell_type": "code",
   "execution_count": 31,
   "metadata": {},
   "outputs": [
    {
     "name": "stdout",
     "output_type": "stream",
     "text": [
      "                            OLS Regression Results                            \n",
      "==============================================================================\n",
      "Dep. Variable:                   ypop   R-squared:                       0.988\n",
      "Model:                            OLS   Adj. R-squared:                  0.988\n",
      "Method:                 Least Squares   F-statistic:                 2.421e+04\n",
      "Date:                Tue, 02 Jan 2024   Prob (F-statistic):          3.55e-276\n",
      "Time:                        17:19:51   Log-Likelihood:                 1434.2\n",
      "No. Observations:                 285   AIC:                            -2864.\n",
      "Df Residuals:                     283   BIC:                            -2857.\n",
      "Df Model:                           1                                         \n",
      "Covariance Type:            nonrobust                                         \n",
      "==============================================================================\n",
      "                 coef    std err          t      P>|t|      [0.025      0.975]\n",
      "------------------------------------------------------------------------------\n",
      "const          0.0135      0.000     72.331      0.000       0.013       0.014\n",
      "t              0.0002   1.14e-06    155.603      0.000       0.000       0.000\n",
      "==============================================================================\n",
      "Omnibus:                        3.407   Durbin-Watson:                   0.104\n",
      "Prob(Omnibus):                  0.182   Jarque-Bera (JB):                3.427\n",
      "Skew:                           0.265   Prob(JB):                        0.180\n",
      "Kurtosis:                       2.910   Cond. No.                         327.\n",
      "==============================================================================\n",
      "\n",
      "Notes:\n",
      "[1] Standard Errors assume that the covariance matrix of the errors is correctly specified.\n"
     ]
    }
   ],
   "source": [
    "series['ytest'], regparams=reg_fit(series['ypop'], series['t'], verbose=True)\n"
   ]
  },
  {
   "cell_type": "code",
   "execution_count": 32,
   "metadata": {},
   "outputs": [
    {
     "data": {
      "text/plain": [
       "date\n",
       "1952-03-31   -4.025703\n",
       "1952-06-30   -4.020800\n",
       "1952-09-30   -4.015898\n",
       "1952-12-31   -4.010996\n",
       "1953-03-31   -4.006094\n",
       "                ...   \n",
       "2022-03-31   -2.653077\n",
       "2022-06-30   -2.648175\n",
       "2022-09-30   -2.643273\n",
       "2022-12-31   -2.638371\n",
       "2023-03-31   -2.633469\n",
       "Freq: Q-DEC, Name: ypoplogfit, Length: 285, dtype: float64"
      ]
     },
     "execution_count": 32,
     "metadata": {},
     "output_type": "execute_result"
    }
   ],
   "source": [
    "series['ypoplogfit'], regparams=reg_fit(np.log(series['ypop']), series['t'], verbose=False)\n",
    "series['ypoplogfit']"
   ]
  },
  {
   "cell_type": "code",
   "execution_count": 33,
   "metadata": {
    "scrolled": true
   },
   "outputs": [
    {
     "data": {
      "text/plain": [
       "Text(0.5, 1.0, 'U.S. real GDP ($Y_t$)')"
      ]
     },
     "execution_count": 33,
     "metadata": {},
     "output_type": "execute_result"
    },
    {
     "data": {
      "image/png": "[encoded data removed]",
      "text/plain": [
       "<Figure size 1600x800 with 1 Axes>"
      ]
     },
     "metadata": {},
     "output_type": "display_data"
    }
   ],
   "source": [
    "(np.log(series['ypop'])-np.log(series['ypop'][0])).plot(label='data')\n",
    "(series['ypoplogfit']-np.log(series['ypop'][0])).plot(label='linear trend')\n",
    "yl, yh = plt.ylim()\n",
    "plt.legend()\n",
    "plt.ylabel(r'$\\log(Y_t/Y_{0})$')\n",
    "# Draw shaded for recession\n",
    "plt.fill_between(series.index, yl, yh, where=series['USREC'].values, color='k', alpha=0.1)\n",
    "plt.title('U.S. real GDP ($Y_t$)')"
   ]
  },
  {
   "cell_type": "markdown",
   "metadata": {},
   "source": [
    "## Taking Out the Trend: The HP Filter (Lecture 1 Figure 2)"
   ]
  },
  {
   "cell_type": "code",
   "execution_count": 34,
   "metadata": {},
   "outputs": [],
   "source": [
    "#cycle_ypop, trend_ypop=sm.tsa.filters.hpfilter(np.log(series['ypop']),100000000000)\n",
    "#lambdahp=100000000000\n",
    "lambdahp=1600\n",
    "cycle_y, trend_y=sm.tsa.filters.hpfilter(np.log(series['y']),lambdahp)\n",
    "cycle_ypop, trend_ypop=sm.tsa.filters.hpfilter(np.log(series['ypop']),lambdahp)\n",
    "#trend_bk.plot()"
   ]
  },
  {
   "cell_type": "code",
   "execution_count": 35,
   "metadata": {
    "scrolled": true
   },
   "outputs": [
    {
     "data": {
      "text/plain": [
       "Text(0.5, 1.0, 'US log real GDP per person')"
      ]
     },
     "execution_count": 35,
     "metadata": {},
     "output_type": "execute_result"
    },
    {
     "data": {
      "image/png": "[encoded data removed]",
      "text/plain": [
       "<Figure size 1600x800 with 1 Axes>"
      ]
     },
     "metadata": {},
     "output_type": "display_data"
    }
   ],
   "source": [
    "(np.log(series['ypop'])-np.log(series['ypop'][0])).plot(label='data')\n",
    "(trend_ypop-np.log(series['ypop'][0])).plot(label=r'hp trend ($\\lambda=1600$)')\n",
    "yl, yh = plt.ylim()\n",
    "plt.ylabel('log')\n",
    "plt.legend()\n",
    "# Draw shaded for recession\n",
    "plt.fill_between(series.index, yl, yh, where=series['USREC'].values, color='k', alpha=0.1)\n",
    "plt.title('US log real GDP per person')\n",
    "# plt.savefig(f'Export/us_log_realgdp_hptrend.pdf', format='pdf', transparent=True);"
   ]
  },
  {
   "cell_type": "markdown",
   "metadata": {},
   "source": [
    "## US output: detrending matters, Business cycles more severe & persistent... (Lecture 1 Figure 3)"
   ]
  },
  {
   "cell_type": "code",
   "execution_count": null,
   "metadata": {},
   "outputs": [],
   "source": [
    "# Filter the DataFrame to start from 1990 and make a copy to avoid SettingWithCopyWarning\n",
    "series = series[series.index >= '1990-01-01'].copy()\n",
    "\n",
    "# Recalculate 't' since we are starting from 1990 now\n",
    "series['t'] = np.arange(len(series)) # Time index\n",
    "\n",
    "# Log of GDP\n",
    "series['ylog'] = np.log(series['y'])\n",
    "\n",
    "# Linear Trend\n",
    "series['ylogfit'], regparams = reg_fit(series['ylog'], series['t'], verbose=False)\n",
    "\n",
    "# HP Filters\n",
    "lambdahp_1600 = 1600\n",
    "lambdahp_16 = 16\n",
    "cycle_y_1600, trend_y_1600 = sm.tsa.filters.hpfilter(series['ylog'], lambdahp_1600)\n",
    "cycle_y_16, trend_y_16 = sm.tsa.filters.hpfilter(series['ylog'], lambdahp_16)\n",
    "\n",
    "# Quadratic Trend\n",
    "series['t_sq'] = series['t'] ** 2\n",
    "X_quad = sm.add_constant(series[['t', 't_sq']])\n",
    "model_quad = sm.OLS(series['ylog'], X_quad)\n",
    "results_quad = model_quad.fit()\n",
    "quad_fit = results_quad.predict(X_quad)\n",
    "\n",
    "# Creating subplots\n",
    "fig, axs = plt.subplots(2, 2, figsize=(16, 12)) # 2x2 subplots\n",
    "\n",
    "# Top-Left: Linear Trend\n",
    "axs[0, 0].plot(series.index, series['ylog'], label='Log Y')\n",
    "axs[0, 0].plot(series.index, series['ylogfit'], label='Linear Trend')\n",
    "axs[0, 0].set_title('Log Y with Linear Trend')\n",
    "axs[0, 0].legend()\n",
    "\n",
    "# Top-Right: HP Filter 1600\n",
    "axs[0, 1].plot(series.index, series['ylog'], label='Log Y')\n",
    "axs[0, 1].plot(series.index, trend_y_1600, label='HP Filter 1600')\n",
    "axs[0, 1].set_title('Log Y with HP Filter 1600')\n",
    "axs[0, 1].legend()\n",
    "\n",
    "# Bottom-Left: Quadratic Trend\n",
    "axs[1, 0].plot(series.index, series['ylog'], label='Log Y')\n",
    "axs[1, 0].plot(series.index, quad_fit, label='Quadratic Trend')\n",
    "axs[1, 0].set_title('Log Y with Quadratic Trend')\n",
    "axs[1, 0].legend()\n",
    "\n",
    "# Bottom-Right: HP Filter 16\n",
    "axs[1, 1].plot(series.index, series['ylog'], label='Log Y')\n",
    "axs[1, 1].plot(series.index, trend_y_16, label='HP Filter 16')\n",
    "axs[1, 1].set_title('Log Y with HP Filter 16')\n",
    "axs[1, 1].legend()\n",
    "\n",
    "# Adding recession shades to all subplots\n",
    "for ax in axs.flat:\n",
    "    ax.fill_between(series.index, *ax.get_ylim(), where=series['USREC'].values, color='k', alpha=0.1)\n",
    "\n",
    "for ax in axs.flat:\n",
    "    ax.xaxis.set_major_locator(mdates.YearLocator(5))  # Show year label every 5 years\n",
    "    ax.xaxis.set_major_formatter(mdates.DateFormatter('%Y'))  # Format to display only the year\n",
    "    plt.setp(ax.xaxis.get_majorticklabels(), rotation=45)  # Rotate labels to avoid overlap\n",
    "\n",
    "\n",
    "plt.tight_layout()\n",
    "plt.show()"
   ]
  },
  {
   "cell_type": "markdown",
   "metadata": {},
   "source": [
    "## US output: detrending matters (Lecture 1 Figure 4a)"
   ]
  },
  {
   "cell_type": "code",
   "execution_count": null,
   "metadata": {
    "scrolled": true
   },
   "outputs": [],
   "source": [
    "# Your existing code for the HP and Band-Pass filters\n",
    "cycle_ypop, trend_ypop = sm.tsa.filters.hpfilter(np.log(series['ypop']), lambdahp)\n",
    "cycle_ypop_bp = sm.tsa.filters.bkfilter(np.log(series['ypop']), low=6, high=32, K=12)\n",
    "\n",
    "# Plotting the HP cycle\n",
    "cycle_ypop.plot(label=r'HP ($\\lambda=1600$)')\n",
    "\n",
    "# Plotting the Band-Pass cycle\n",
    "cycle_ypop_bp.plot(label='Band-Pass (6,32)')\n",
    "\n",
    "# Setting the y-axis limits, labels, and adding legend\n",
    "yl, yh = plt.ylim()\n",
    "plt.ylabel('log')\n",
    "plt.legend()\n",
    "\n",
    "# Draw shaded areas for recession\n",
    "plt.fill_between(series.index, yl, yh, where=series['USREC'].values, color='k', alpha=0.1)\n",
    "\n",
    "# Adding a title\n",
    "plt.title('Cyclical component of US log real GDP per person')\n",
    "\n",
    "# Drawing a horizontal line at y=0\n",
    "plt.axhline(y=0, color='gray', linestyle='--')\n",
    "\n",
    "# Uncomment the following line to save the plot\n",
    "# plt.savefig(f'Export/us_log_realgdp_cycle.pdf', format='pdf', transparent=True)\n",
    "\n",
    "plt.show()"
   ]
  },
  {
   "cell_type": "markdown",
   "metadata": {},
   "source": [
    "## US output: detrending matters (Lecture 1 Figure 4b)"
   ]
  },
  {
   "cell_type": "code",
   "execution_count": null,
   "metadata": {},
   "outputs": [],
   "source": [
    "# Calculate 'Output less Linear Trend'\n",
    "output_less_linear_trend = (np.log(series['y']) - series['ylogfit'])\n",
    "\n",
    "# Calculate 'HP Trend Less Linear Trend'\n",
    "hp_trend_less_linear_trend = (trend_y_1600 - series['ylogfit'])\n",
    "\n",
    "# Plotting\n",
    "plt.figure(figsize=(12, 6))\n",
    "plt.plot(series.index, output_less_linear_trend, label=\"Output less Linear Trend\")\n",
    "plt.plot(series.index, hp_trend_less_linear_trend, label=\"HP Trend Less Linear Trend\")\n",
    "\n",
    "# Setting labels and title\n",
    "plt.ylabel('Percent')\n",
    "plt.title('HP Growth Component and Linear Trend Residual')\n",
    "plt.legend()\n",
    "\n",
    "# Add grid for better readability\n",
    "plt.grid(True)\n",
    "\n",
    "# Uncomment the following line to save the plot\n",
    "# plt.savefig('hp_growth_component_and_linear_trend_residual.pdf', format='pdf', transparent=True)\n",
    "\n",
    "plt.show()"
   ]
  },
  {
   "cell_type": "markdown",
   "metadata": {},
   "source": [
    "### Unemployment, Okun's law, basic correlations between growth rates"
   ]
  },
  {
   "cell_type": "code",
   "execution_count": null,
   "metadata": {
    "scrolled": true
   },
   "outputs": [],
   "source": [
    "series['u'].plot()\n",
    "yl, yh = plt.ylim()\n",
    "plt.ylabel('%')\n",
    "#plt.legend()\n",
    "# Draw shaded for recession\n",
    "plt.fill_between(series.index, yl, yh, where=series['USREC'].values, color='k', alpha=0.1)\n",
    "plt.title(r'U.S. unemployment ($u_t$)')\n",
    "# plt.savefig(f'Export/us_unempl.pdf', format='pdf', transparent=True);"
   ]
  },
  {
   "cell_type": "markdown",
   "metadata": {},
   "source": [
    "### Across selected states"
   ]
  },
  {
   "cell_type": "code",
   "execution_count": null,
   "metadata": {
    "scrolled": false
   },
   "outputs": [],
   "source": [
    "stateu[[\"AZ\",\"CA\",\"FL\",\"IL\",\"MA\",\"MI\",\"MN\",\"NY\",\"OR\",\"PA\",\"SD\",\"TX\"]].plot()\n",
    "yl, yh = plt.ylim()\n",
    "plt.ylabel('%')\n",
    "#plt.legend()\n",
    "# Draw shaded for recession\n",
    "plt.fill_between(series.index, yl, yh, where=series['USREC'].values, color='k', alpha=0.1)\n",
    "#plt.legend(loc='upper center',  ncol=1)\n",
    "plt.legend(loc='upper center', bbox_to_anchor=(0.5, 1.05),\n",
    "          ncol=6)\n",
    "# plt.savefig(f'Export/us_unempl_state.pdf', format='pdf', transparent=True);"
   ]
  },
  {
   "cell_type": "markdown",
   "metadata": {},
   "source": [
    "Add national unemployment series to dataframe, take growth of u"
   ]
  },
  {
   "cell_type": "code",
   "execution_count": null,
   "metadata": {},
   "outputs": [],
   "source": [
    "stateu[\"nat\"]=series['u']\n",
    "# Last row of corr gives correlation with \"nat\"\n",
    "natcorr=stateu.diff().iloc[1:].corr().iloc[-1]"
   ]
  },
  {
   "cell_type": "code",
   "execution_count": null,
   "metadata": {},
   "outputs": [],
   "source": [
    "natcorr.plot.bar(rot=90)\n",
    "plt.title('Correlation between national $\\Delta u$ and state $\\Delta u$')"
   ]
  },
  {
   "cell_type": "code",
   "execution_count": null,
   "metadata": {},
   "outputs": [],
   "source": [
    "# Pre-covid\n",
    "seriespre=series.loc['1952-03-31':'2019-12-31']"
   ]
  },
  {
   "cell_type": "markdown",
   "metadata": {},
   "source": [
    "Okun's law: change in unemployment rate vs GDP growth rate"
   ]
  },
  {
   "cell_type": "markdown",
   "metadata": {},
   "source": [
    "Chad does this with unemployment gap vs output gap, but requires measures of natural rates, so not good for me. He says \n",
    "$$ u-\\overline{u} = -1/2 (\\log(y/ypot)) $$"
   ]
  },
  {
   "cell_type": "code",
   "execution_count": null,
   "metadata": {
    "scrolled": false
   },
   "outputs": [],
   "source": [
    "du=seriespre['u'].diff() # change in the unemployment rate in pp\n",
    "dy=100*np.log(seriespre['y']).diff() # change in GDP in %\n",
    "dc=100*np.log(seriespre['c']).diff() # change in GDP in %\n",
    "di=100*np.log(seriespre['i']).diff() # change in GDP in %\n",
    "dg=100*np.log(seriespre['g']).diff() # change in GDP in %\n",
    "de=100*np.log(seriespre['emp']).diff() # employment \n",
    "dh=100*np.log(seriespre['h']).diff() # employment = total hours\n",
    "dn=100*np.log(seriespre['h']*seriespre['emp']).diff() # hours worked per person * employment = total hours\n",
    "dk=100*np.log(seriespre['k']).diff() \n",
    "\n",
    "duann=4*du #-du.mean()\n",
    "dyann=4*dy #-dy.mean()\n",
    "dcann=4*dc\n",
    "diann=4*di\n",
    "dgann=4*dg\n",
    "dnann=4*dn\n",
    "dkann=4*dk\n",
    "deann=4*de\n",
    "dhann=4*dh\n",
    "\n",
    "\n",
    "\n",
    "duann.plot(label=r'Change in $u$')\n",
    "dyann.plot(label=r'GDP growth')\n",
    "yl, yh = plt.ylim()\n",
    "plt.legend()\n",
    "plt.ylabel('% (annualized)')\n",
    "# Draw shaded for recession\n",
    "plt.fill_between(series.index, yl, yh, where=series['USREC'].values, color='k', alpha=0.1)\n",
    "plt.title(r'Change in unemployment $\\Delta u_t$ vs growth in GDP $\\Delta \\log Y_t$')\n",
    "# plt.savefig(f'Export/okun_timeseries.pdf', format='pdf', transparent=True);"
   ]
  },
  {
   "cell_type": "markdown",
   "metadata": {},
   "source": [
    "Look at correlation: -0.8"
   ]
  },
  {
   "cell_type": "code",
   "execution_count": null,
   "metadata": {
    "scrolled": true
   },
   "outputs": [],
   "source": [
    "duy=pd.DataFrame(data={'du':duann[1:],'dy':dyann[1:], 'dc':dcann[1:], 'di':diann[1:], 'dg':dgann[1:], 'dn':dnann[1:], 'dk':dkann[1:], 'de':deann[1:], 'dh':dhann[1:]})\n",
    "duy.corr()"
   ]
  },
  {
   "cell_type": "markdown",
   "metadata": {},
   "source": [
    "Regression coefficient: -1.66 (vs simplest model would be $-\\alpha$)"
   ]
  },
  {
   "cell_type": "code",
   "execution_count": null,
   "metadata": {},
   "outputs": [],
   "source": [
    "# model=sm.OLS(duy['dy'],duy['du'])\n",
    "# results = model.fit()\n",
    "# print(results.summary())\n",
    "# fitted = model.fit().predict()\n",
    "\n",
    "fitted, regparams=reg_fit(duy['dy'],duy['du'], verbose=True)\n"
   ]
  },
  {
   "cell_type": "code",
   "execution_count": null,
   "metadata": {
    "scrolled": true
   },
   "outputs": [],
   "source": [
    "duy.plot.scatter(x='du', y='dy')\n",
    "plt.plot(duy['du'], fitted, color='tab:orange', label=r'$\\Delta \\log Y = 3 - 1.6 \\Delta u$')\n",
    "plt.xlabel(r'$u_t - u_{t-1}$ (annualized %)')\n",
    "plt.ylabel(r'$\\log(Y_t)-\\log(Y_{t-1})$ (annualized %)')\n",
    "plt.legend()\n",
    "# plt.savefig(f'Export/okun_cross_X.pdf', format='pdf', transparent=True);"
   ]
  },
  {
   "cell_type": "markdown",
   "metadata": {},
   "source": [
    "So, best summary of Okun's law in data at the Q level is\n",
    "$$ dlogy_t = 0.75 -1.6 du_t$$\n",
    "\n",
    "This means that growth in y is $2.5\\% - 1.6* change in u$ this year. \n",
    "- Annual level: unemployment rate changes this year (say from 7 to 10pp), the gdp growth rate tends to fall by 1.5*3=4.5pp (from 1.5 to -3)\n",
    "- Longer period, tends to attenuate. Eg, unemployment rate in the recession frose from 4 to 10 (by 6), GDP growth rate fell from 3 to -3"
   ]
  },
  {
   "cell_type": "code",
   "execution_count": null,
   "metadata": {
    "scrolled": true
   },
   "outputs": [],
   "source": [
    "fitted, regparams=reg_fit(duy['dc'],duy['dy'], verbose=True)\n",
    "duy.plot.scatter(x='dy', y='dc')\n",
    "plt.plot(duy['dy'], fitted, color='tab:orange', label=r'$\\Delta \\log C = 0.55 \\Delta \\log Y$')\n",
    "plt.xlabel(r'$\\log(Y_t)-\\log(Y_{t-1})$ (annualized %)')\n",
    "plt.ylabel(r'$\\log(C_t)-\\log(C_{t-1})$  (annualized %)')\n",
    "plt.legend()\n",
    "plt.xlim(-12,16)\n",
    "plt.ylim(-12,16)\n",
    "# plt.savefig(f'Export/okun_C_Y.pdf', format='pdf', transparent=True);"
   ]
  },
  {
   "cell_type": "code",
   "execution_count": null,
   "metadata": {
    "scrolled": true
   },
   "outputs": [],
   "source": [
    "fitted, regparams=reg_fit(duy['di'],duy['dy'], verbose=True)\n",
    "duy.plot.scatter(x='dy', y='di')\n",
    "plt.plot(duy['dy'], fitted, color='tab:orange', label=r'$\\Delta \\log I = 3.75 \\Delta \\log Y$')\n",
    "plt.xlabel(r'$\\log(Y_t)-\\log(Y_{t-1})$ (annualized %)')\n",
    "plt.ylabel(r'$\\log(I_t)-\\log(I_{t-1})$  (annualized %)')\n",
    "plt.legend()\n",
    "plt.ylim(-12,16)\n",
    "plt.ylim(-48,54)\n",
    "# plt.savefig(f'Export/okun_I_Y.pdf', format='pdf', transparent=True);"
   ]
  },
  {
   "cell_type": "code",
   "execution_count": null,
   "metadata": {
    "scrolled": true
   },
   "outputs": [],
   "source": [
    "fitted, regparams=reg_fit(duy['dg'],duy['dy'], verbose=True)\n",
    "duy.plot.scatter(x='dy', y='dg')\n",
    "plt.plot(duy['dy'], fitted, color='tab:orange', label=r'$\\Delta \\log G = 0.3 \\Delta \\log Y$')\n",
    "plt.xlabel(r'$\\log(Y_t)-\\log(Y_{t-1})$ (annualized %)')\n",
    "plt.ylabel(r'$\\log(G_t)-\\log(G_{t-1})$  (annualized %)')\n",
    "plt.xlim(-12,16)\n",
    "plt.ylim(-12,16)\n",
    "plt.legend()\n",
    "# plt.savefig(f'Export/okun_G_Y.pdf', format='pdf', transparent=True);"
   ]
  },
  {
   "cell_type": "code",
   "execution_count": null,
   "metadata": {
    "scrolled": true
   },
   "outputs": [],
   "source": [
    "fitted, regparams=reg_fit(duy['dn'],duy['dy'], verbose=True)\n",
    "duy.plot.scatter(x='dy', y='dn')\n",
    "plt.plot(duy['dy'], fitted, color='tab:orange', label=r'$\\Delta \\log N = 0.65 \\Delta \\log Y$')\n",
    "plt.xlabel(r'$\\log(Y_t)-\\log(Y_{t-1})$ (annualized %)')\n",
    "plt.ylabel(r'$\\log(N_t)-\\log(N_{t-1})$  (annualized %)')\n",
    "plt.legend()\n",
    "plt.xlim(-12,16)\n",
    "plt.ylim(-12,16)\n",
    "# plt.savefig(f'Export/okun_N_Y.pdf', format='pdf', transparent=True);"
   ]
  },
  {
   "cell_type": "code",
   "execution_count": null,
   "metadata": {},
   "outputs": [],
   "source": [
    "fitted, regparams=reg_fit(duy['de'],duy['dy'], verbose=True)\n",
    "duy.plot.scatter(x='dy', y='de')\n",
    "plt.plot(duy['dy'], fitted, color='tab:orange', label=r'$\\Delta \\log E = 0.46 \\Delta \\log Y$')\n",
    "plt.xlabel(r'$\\log(Y_t)-\\log(Y_{t-1})$ (annualized %)')\n",
    "plt.ylabel(r'$\\log(E_t)-\\log(E_{t-1})$  (annualized %)')\n",
    "plt.legend()\n",
    "plt.xlim(-12,16)\n",
    "plt.ylim(-12,16)\n",
    "# plt.savefig(f'Export/okun_E_Y.pdf', format='pdf', transparent=True);"
   ]
  },
  {
   "cell_type": "code",
   "execution_count": null,
   "metadata": {},
   "outputs": [],
   "source": [
    "fitted, regparams=reg_fit(duy['dh'],duy['dy'], verbose=True)\n",
    "duy.plot.scatter(x='dy', y='dh')\n",
    "plt.plot(duy['dy'], fitted, color='tab:orange', label=r'$\\Delta \\log n = 0.20 \\Delta \\log Y$')\n",
    "plt.xlabel(r'$\\log(Y_t)-\\log(Y_{t-1})$ (annualized %)')\n",
    "plt.ylabel(r'$\\log(n_t)-\\log(n_{t-1})$  (annualized %)')\n",
    "plt.legend()\n",
    "plt.xlim(-12,16)\n",
    "plt.ylim(-12,16)\n",
    "# plt.savefig(f'Export/okun_h_Y.pdf', format='pdf', transparent=True);"
   ]
  },
  {
   "cell_type": "code",
   "execution_count": null,
   "metadata": {
    "scrolled": true
   },
   "outputs": [],
   "source": [
    "fitted, regparams=reg_fit(duy['dk'],duy['dy'], verbose=True)\n",
    "duy.plot.scatter(x='dy', y='dk')\n",
    "plt.plot(duy['dy'], fitted, color='tab:orange', label=r'$\\Delta \\log K = 0.08 \\Delta \\log Y$')\n",
    "plt.xlabel(r'$\\log(Y_t)-\\log(Y_{t-1})$ (annualized %)')\n",
    "plt.ylabel(r'$\\log(K_t)-\\log(K_{t-1})$  (annualized %)')\n",
    "plt.xlim(-12,16)\n",
    "plt.ylim(-12,16)\n",
    "plt.legend()\n",
    "# plt.savefig(f'Export/okun_K_Y.pdf', format='pdf', transparent=True);"
   ]
  },
  {
   "cell_type": "markdown",
   "metadata": {},
   "source": [
    "### Contributions to growth in each recession"
   ]
  },
  {
   "cell_type": "markdown",
   "metadata": {},
   "source": [
    "Verify national accounting identity in original nominal series"
   ]
  },
  {
   "cell_type": "code",
   "execution_count": null,
   "metadata": {},
   "outputs": [],
   "source": [
    "series[\"sumyn\"]=series[\"cn\"]+series[\"in\"]+series[\"gn\"]+series[\"expn\"]-series[\"impn\"]\n",
    "np.max((series[\"yn\"]-series[\"sumyn\"])/series[\"yn\"])"
   ]
  },
  {
   "cell_type": "markdown",
   "metadata": {},
   "source": [
    "So this is accurate to the 6th digit"
   ]
  },
  {
   "cell_type": "markdown",
   "metadata": {},
   "source": [
    "Do this at a monthly level and with the same deflator everywhere, so as to preserve adding up"
   ]
  },
  {
   "cell_type": "code",
   "execution_count": null,
   "metadata": {},
   "outputs": [],
   "source": [
    "seriesm = data_load.get_fred_data('M','same_def')"
   ]
  },
  {
   "cell_type": "markdown",
   "metadata": {},
   "source": [
    "Check that we do add up all components"
   ]
  },
  {
   "cell_type": "code",
   "execution_count": null,
   "metadata": {},
   "outputs": [],
   "source": [
    "seriesm[\"sumyn\"]=seriesm[\"cn\"]+seriesm[\"in\"]+seriesm[\"gn\"]+seriesm[\"expn\"]-seriesm[\"impn\"]\n",
    "np.max((seriesm[\"yn\"]-seriesm[\"sumyn\"])/seriesm[\"yn\"])"
   ]
  },
  {
   "cell_type": "markdown",
   "metadata": {},
   "source": [
    "Construct indicator = 1 if recession begins this month, -1 if it ends this month"
   ]
  },
  {
   "cell_type": "code",
   "execution_count": null,
   "metadata": {
    "scrolled": true
   },
   "outputs": [],
   "source": [
    "seriesm[\"USREC\"].loc['1948-10-31':'1949-01-31']"
   ]
  },
  {
   "cell_type": "markdown",
   "metadata": {},
   "source": [
    "Note the official NBER [webpage](https://www.nber.org/research/data/us-business-cycle-expansions-and-contractions) says that the peak was in November 1948 and trough in October 1949, so make sure our dating is consistent with that"
   ]
  },
  {
   "cell_type": "code",
   "execution_count": null,
   "metadata": {},
   "outputs": [],
   "source": [
    "begrec=seriesm[\"USREC\"].diff().shift(-1)"
   ]
  },
  {
   "cell_type": "code",
   "execution_count": null,
   "metadata": {
    "scrolled": true
   },
   "outputs": [],
   "source": [
    "begrec.loc['1948-10-31':'1949-01-31']"
   ]
  },
  {
   "cell_type": "code",
   "execution_count": null,
   "metadata": {},
   "outputs": [],
   "source": [
    "begrec.loc['1949-09-30':'1949-12-31']"
   ]
  },
  {
   "cell_type": "markdown",
   "metadata": {},
   "source": [
    "Now store beginning and ends"
   ]
  },
  {
   "cell_type": "code",
   "execution_count": null,
   "metadata": {},
   "outputs": [],
   "source": [
    "beg=seriesm.loc[(begrec==1).to_numpy()].rename(columns={\"y\":\"y_start\", \"i\":\"i_start\", \"c\":\"c_start\", \"g\":\"g_start\", \"imp\":\"imp_start\", \"exp\":\"exp_start\"})"
   ]
  },
  {
   "cell_type": "code",
   "execution_count": null,
   "metadata": {},
   "outputs": [],
   "source": [
    "end=seriesm.loc[(begrec==-1).to_numpy()].rename(columns={\"y\":\"y_end\", \"i\":\"i_end\", \"c\":\"c_end\", \"g\":\"g_end\", \"imp\":\"imp_end\", \"exp\":\"exp_end\"})"
   ]
  },
  {
   "cell_type": "markdown",
   "metadata": {},
   "source": [
    "Add date to `end`"
   ]
  },
  {
   "cell_type": "code",
   "execution_count": null,
   "metadata": {},
   "outputs": [],
   "source": [
    "end[\"date_end\"]=end.index"
   ]
  },
  {
   "cell_type": "code",
   "execution_count": null,
   "metadata": {},
   "outputs": [],
   "source": [
    "end['y_end']"
   ]
  },
  {
   "cell_type": "code",
   "execution_count": null,
   "metadata": {},
   "outputs": [],
   "source": [
    "startend=pd.concat([beg[[\"y_start\",\"i_start\", \"c_start\", \"g_start\", \"imp_start\", \"exp_start\"]],end[[\"y_end\",\"i_end\", \"c_end\", \"g_end\", \"imp_end\", \"exp_end\",\"date_end\"]]])"
   ]
  },
  {
   "cell_type": "code",
   "execution_count": null,
   "metadata": {},
   "outputs": [],
   "source": [
    "startend.sort_index(inplace=True)"
   ]
  },
  {
   "cell_type": "code",
   "execution_count": null,
   "metadata": {},
   "outputs": [],
   "source": [
    "for i in [\"y_end\",\"i_end\", \"c_end\", \"g_end\",\"imp_end\", \"exp_end\", \"date_end\"]:\n",
    "    startend[i]=startend[i].shift(-1)"
   ]
  },
  {
   "cell_type": "code",
   "execution_count": null,
   "metadata": {},
   "outputs": [],
   "source": [
    "startend.dropna(inplace=True)"
   ]
  },
  {
   "cell_type": "code",
   "execution_count": null,
   "metadata": {},
   "outputs": [],
   "source": [
    "startend.head()"
   ]
  },
  {
   "cell_type": "code",
   "execution_count": null,
   "metadata": {},
   "outputs": [],
   "source": [
    "startend[\"dy\"]=100*(startend['y_end']-startend['y_start'])/startend['y_start']\n",
    "startend[\"dc\"]=100*(startend['c_end']-startend['c_start'])/startend['y_start']\n",
    "startend[\"di\"]=100*(startend['i_end']-startend['i_start'])/startend['y_start']\n",
    "startend[\"dg\"]=100*(startend['g_end']-startend['g_start'])/startend['y_start']\n",
    "startend[\"dexp\"]=100*(startend['exp_end']-startend['exp_start'])/startend['y_start']\n",
    "startend[\"-dimp\"]=-100*(startend['imp_end']-startend['imp_start'])/startend['y_start']\n",
    "startend[\"sum\"]=startend[\"dc\"]+startend[\"di\"]+startend[\"dg\"]+startend[\"dexp\"]+startend[\"-dimp\"]"
   ]
  },
  {
   "cell_type": "markdown",
   "metadata": {},
   "source": [
    "## Now show contribution to growth in each recession"
   ]
  },
  {
   "cell_type": "code",
   "execution_count": null,
   "metadata": {},
   "outputs": [],
   "source": [
    "startend[[\"date_end\",\"dy\",\"sum\",\"dc\",\"di\",\"dg\",\"dexp\",\"-dimp\"]].round(1)"
   ]
  },
  {
   "cell_type": "markdown",
   "metadata": {},
   "source": [
    "### Now log and HP"
   ]
  },
  {
   "cell_type": "markdown",
   "metadata": {},
   "source": [
    "Log and HP filter the series"
   ]
  },
  {
   "cell_type": "code",
   "execution_count": null,
   "metadata": {
    "scrolled": false
   },
   "outputs": [],
   "source": [
    "filtseries = dict()\n",
    "# HP filters of logs\n",
    "for r in ['y', 'c', 'g', 'i', 'gdpdef', 'emp', 'h','labprod', 'w']:\n",
    "    cycle, trend= sm.tsa.filters.hpfilter(np.log(series[r]),100)\n",
    "    filtseries[r] = cycle\n",
    "\n",
    "# just levels\n",
    "for r in ['pce_infl', 'fedfunds', 'u']:\n",
    "    filtseries[r] = series[r]/100\n",
    "\n",
    "\n",
    "# verify units\n",
    "df = pd.DataFrame(filtseries)\n",
    "df.tail()"
   ]
  },
  {
   "cell_type": "code",
   "execution_count": null,
   "metadata": {},
   "outputs": [],
   "source": [
    "series"
   ]
  },
  {
   "cell_type": "markdown",
   "metadata": {},
   "source": [
    "## Plot some series vs trends"
   ]
  },
  {
   "cell_type": "code",
   "execution_count": null,
   "metadata": {},
   "outputs": [],
   "source": [
    "filtseries = dict()\n",
    "seriespre=series.loc['1952-03-31':'2019-12-31']\n",
    "\n",
    "# HP filters of logs\n",
    "for r in ['y', 'c', 'g', 'i', 'gdpdef', 'emp', 'h','labprod', 'w']:\n",
    "    cycle, trend= sm.tsa.filters.hpfilter(np.log(seriespre[r]),100)\n",
    "    filtseries[r] = cycle\n",
    "\n",
    "# verify units\n",
    "filtseries = pd.DataFrame(filtseries)"
   ]
  },
  {
   "cell_type": "markdown",
   "metadata": {},
   "source": [
    "Procyclical variables"
   ]
  },
  {
   "cell_type": "code",
   "execution_count": null,
   "metadata": {
    "scrolled": true
   },
   "outputs": [],
   "source": [
    "filtseries['y'].plot(label='Y')\n",
    "filtseries['c'].plot(label='C')\n",
    "filtseries['emp'].plot(label='N')\n",
    "#filtseries['i'].plot(label='I')\n",
    "yl, yh = plt.ylim()\n",
    "plt.xlim('1970-03-31','2019-12-31')\n",
    "plt.legend()\n",
    "# Draw shaded for recession\n",
    "plt.fill_between(series.index, yl, yh, where=series['USREC'].values, color='k', alpha=0.1)\n",
    "plt.title('Cyclical components of log Y, C, N')\n",
    "# plt.savefig(f'Export/us_log_realgdp_components.pdf', format='pdf', transparent=True);"
   ]
  },
  {
   "cell_type": "markdown",
   "metadata": {},
   "source": [
    "### Historical CPI data"
   ]
  },
  {
   "cell_type": "code",
   "execution_count": null,
   "metadata": {},
   "outputs": [],
   "source": [
    "df_cpi = data_load.get_historical_cpi()"
   ]
  },
  {
   "cell_type": "code",
   "execution_count": null,
   "metadata": {},
   "outputs": [],
   "source": [
    "df_cpi[\"cpi\"][2020]/df_cpi[\"cpi\"][1774]"
   ]
  },
  {
   "cell_type": "code",
   "execution_count": null,
   "metadata": {},
   "outputs": [],
   "source": [
    "df_cpi[\"cpi\"][1933]"
   ]
  },
  {
   "cell_type": "code",
   "execution_count": null,
   "metadata": {},
   "outputs": [],
   "source": [
    "np.exp(3)"
   ]
  },
  {
   "cell_type": "code",
   "execution_count": null,
   "metadata": {},
   "outputs": [],
   "source": [
    "df_cpi[\"cpi\"][2020]/df_cpi[\"cpi\"][1933]"
   ]
  },
  {
   "cell_type": "code",
   "execution_count": null,
   "metadata": {},
   "outputs": [],
   "source": [
    "(np.log(df_cpi['cpi'])-np.log(df_cpi['cpi'][1774])).plot()\n",
    "plt.title(r\"U.S Consumer Price index $P_t$ since 1774\")\n",
    "plt.ylabel(r'$\\log(P_t/P_{0})$')\n",
    "# plt.savefig(f'Export/us_log_cpi.pdf', format='pdf', transparent=True);"
   ]
  },
  {
   "cell_type": "code",
   "execution_count": null,
   "metadata": {},
   "outputs": [],
   "source": [
    "np.exp(3.5)"
   ]
  },
  {
   "cell_type": "code",
   "execution_count": null,
   "metadata": {},
   "outputs": [],
   "source": [
    "(100* np.log(df_cpi['cpi']).diff()).plot()\n",
    "plt.title(r\"U.S CPI inflation rate (100 $\\Delta \\log(P_t)$)\")\n",
    "plt.axhline(0, linestyle='--', color='gray')\n",
    "plt.xlim(1960,2020)\n",
    "plt.ylim(-1,13)\n",
    "plt.ylabel(r'$100 \\Delta \\log(P_t)$')\n",
    "#plt.savefig(f'Export/us_log_infl.pdf', format='pdf', transparent=True);"
   ]
  },
  {
   "cell_type": "code",
   "execution_count": null,
   "metadata": {},
   "outputs": [],
   "source": [
    "series['cpi'].diff()"
   ]
  },
  {
   "cell_type": "code",
   "execution_count": null,
   "metadata": {},
   "outputs": [],
   "source": [
    "yoy=100*(series['cpi']-series['cpi'].shift(4))/series['cpi'].shift(4)"
   ]
  },
  {
   "cell_type": "code",
   "execution_count": null,
   "metadata": {
    "scrolled": true
   },
   "outputs": [],
   "source": [
    "plt.figure\n",
    "yoy.plot(label=r'$\\pi_t$')\n",
    "yl, yh = plt.ylim()\n",
    "plt.title(r'Consumer Price Index inflation $\\pi_t$')\n",
    "plt.ylabel(r'Year over year change (%)')\n",
    "plt.axhline(2, linestyle='--', color='gray', linewidth=2, label=r'2 %')\n",
    "plt.legend()\n",
    "plt.axhline(0, color='black', linewidth=1)\n",
    "# Draw shaded for recession\n",
    "plt.fill_between(series.index, yl, yh, where=series['USREC'].values, color='k', alpha=0.1)\n",
    "# plt.savefig(f'Export/us_infl.pdf', format='pdf', transparent=True);"
   ]
  },
  {
   "cell_type": "markdown",
   "metadata": {},
   "source": [
    "### Money"
   ]
  },
  {
   "cell_type": "code",
   "execution_count": null,
   "metadata": {},
   "outputs": [],
   "source": [
    "m1data=series[['m2','m1', 'currcir','USREC','cpi', 'yn']]['2000-01':]"
   ]
  },
  {
   "cell_type": "markdown",
   "metadata": {},
   "source": [
    "Levels"
   ]
  },
  {
   "cell_type": "code",
   "execution_count": null,
   "metadata": {},
   "outputs": [],
   "source": [
    "plt.figure()\n",
    "(m1data['m2']/1000).plot(label='M2')\n",
    "(m1data['m1']/1000).plot(label='M1')\n",
    "(m1data['currcir']/1000).plot(label='Currency')\n",
    "plt.axhline(0, color='black', linewidth=1)\n",
    "yl, yh = plt.ylim()\n",
    "plt.fill_between(series.index, yl, yh, where=series['USREC'].values, color='k', alpha=0.1)\n",
    "plt.legend()\n",
    "plt.title(r'Measures of the money supply')\n",
    "plt.ylabel(r'$trn')\n",
    "# plt.savefig(f'Export/us_m1.pdf', format='pdf', transparent=True);"
   ]
  },
  {
   "cell_type": "code",
   "execution_count": null,
   "metadata": {},
   "outputs": [],
   "source": [
    "m1data['2020-03':]"
   ]
  },
  {
   "cell_type": "code",
   "execution_count": null,
   "metadata": {},
   "outputs": [],
   "source": [
    "plt.figure()\n",
    "(np.log(m1data['m2'])-np.log(m1data['m2'][0])).plot(label='M2')\n",
    "(np.log(m1data['m1'])-np.log(m1data['m1'][0])).plot(label='M1')\n",
    "(np.log(m1data['currcir'])-np.log(m1data['currcir'][0])).plot(label='curr')\n",
    "#(m1data['m1']/1000).plot(label='M1')\n",
    "#(m1data['currcir']/1000).plot(label='Currency')"
   ]
  },
  {
   "cell_type": "markdown",
   "metadata": {},
   "source": [
    "Annualized growth rate"
   ]
  },
  {
   "cell_type": "code",
   "execution_count": null,
   "metadata": {},
   "outputs": [],
   "source": [
    "NQ1=m1data.index.size "
   ]
  },
  {
   "cell_type": "code",
   "execution_count": null,
   "metadata": {},
   "outputs": [],
   "source": [
    "print('Annualized log growth rate M2 =',(np.log(m1data['m2'][-1])-np.log(m1data['m2'][0]))/(NQ1/4))\n",
    "print('Annualized log growth rate M1 =',(np.log(m1data['m1'][-1])-np.log(m1data['m1'][0]))/(NQ1/4))\n",
    "print('Annualized log growth rate curr =',(np.log(m1data['currcir'][-1])-np.log(m1data['currcir'][0]))/(NQ1/4))\n",
    "print('Annualized log growth rate prices =',(np.log(m1data['cpi'][-1])-np.log(m1data['cpi'][0]))/(NQ1/4))\n",
    "print('Annualized log growth rate GDP =',(np.log(m1data['yn'][-2])-np.log(m1data['yn'][0]))/((NQ1-1)/4))"
   ]
  },
  {
   "cell_type": "code",
   "execution_count": null,
   "metadata": {
    "scrolled": true
   },
   "outputs": [],
   "source": [
    "m1data"
   ]
  },
  {
   "cell_type": "markdown",
   "metadata": {},
   "source": [
    "### Reserves"
   ]
  },
  {
   "cell_type": "code",
   "execution_count": null,
   "metadata": {
    "scrolled": true
   },
   "outputs": [],
   "source": [
    "seriesm['totres'].plot()\n",
    "yl, yh = plt.ylim()\n",
    "plt.ylabel('$bn')\n",
    "# Draw shaded for recession\n",
    "plt.fill_between(seriesm.index, yl, yh, where=seriesm['USREC'].values, color='k', alpha=0.1)\n",
    "plt.xlim('1980-01-01','2021-01-01')\n",
    "plt.title(r'Bank reserves ($M_t^{res}$)')\n",
    "# plt.savefig(f'Export/reserves.pdf', format='pdf', transparent=True);"
   ]
  },
  {
   "cell_type": "markdown",
   "metadata": {},
   "source": [
    "Replace IOER series with 0s"
   ]
  },
  {
   "cell_type": "code",
   "execution_count": null,
   "metadata": {},
   "outputs": [],
   "source": [
    "seriesm['ioer'].fillna(0, inplace=True)"
   ]
  },
  {
   "cell_type": "code",
   "execution_count": null,
   "metadata": {},
   "outputs": [],
   "source": [
    "seriesm['fedfunds'].plot(label=r'Fed Funds rate $i_t$')\n",
    "seriesm['ioer'].plot(label=r'on reserves $i_t^{res}$')\n",
    "yl, yh = plt.ylim()\n",
    "plt.ylabel('$bn')\n",
    "plt.legend()\n",
    "# Draw shaded for recession\n",
    "plt.fill_between(series.index, yl, yh, where=series['USREC'].values, color='k', alpha=0.1)\n",
    "plt.xlim('1980-01-01','2021-01-01')\n",
    "plt.title(r'Interest rates')\n",
    "# plt.savefig(f'Export/intrates.pdf', format='pdf', transparent=True);"
   ]
  },
  {
   "cell_type": "markdown",
   "metadata": {},
   "source": [
    "### Output gap"
   ]
  },
  {
   "cell_type": "code",
   "execution_count": null,
   "metadata": {
    "scrolled": true
   },
   "outputs": [],
   "source": [
    "(np.log(series['y'])-np.log(series['y'][0])).plot(label='GDP $Y_t$')\n",
    "(np.log(series['ypot'])-np.log(series['y'][0])).plot(label='Potential GDP $Y_t^{pot}$')\n",
    "yl, yh = plt.ylim()\n",
    "plt.legend()\n",
    "plt.ylabel(r'$\\log(Y_t/Y_{0})$')\n",
    "# Draw shaded for recession\n",
    "plt.fill_between(series.index, yl, yh, where=series['USREC'].values, color='k', alpha=0.1)\n",
    "plt.title('U.S. real GDP ($Y_t$) vs potential ($Y_t^{pot}$)')\n",
    "# plt.savefig(f'Export/gdp_v_potential.pdf', format='pdf', transparent=True);"
   ]
  },
  {
   "cell_type": "code",
   "execution_count": null,
   "metadata": {
    "scrolled": true
   },
   "outputs": [],
   "source": [
    "(100*(np.log(series['y'])-np.log(series['ypot']))).plot()\n",
    "yl, yh = plt.ylim()\n",
    "plt.ylabel(r'$\\log(Y_t/Y_{t}^{pot})$ (per cent)')\n",
    "# Draw shaded for recession\n",
    "plt.fill_between(series.index, yl, yh, where=series['USREC'].values, color='k', alpha=0.1)\n",
    "plt.axhline(0, color='black', linestyle='--', linewidth=1)\n",
    "plt.title('U.S. output gap $log(Y_t/Y_t^{pot})$')\n",
    "# plt.savefig(f'Export/outputgap.pdf', format='pdf', transparent=True);"
   ]
  },
  {
   "cell_type": "markdown",
   "metadata": {},
   "source": [
    "Phillips curve examination"
   ]
  },
  {
   "cell_type": "code",
   "execution_count": null,
   "metadata": {
    "scrolled": true
   },
   "outputs": [],
   "source": [
    "series['cpi']"
   ]
  },
  {
   "cell_type": "code",
   "execution_count": null,
   "metadata": {},
   "outputs": [],
   "source": [
    "pi_yoy=100*(series['cpi']-series['cpi'].shift(4))/series['cpi'].shift(4)\n",
    "pidiff=pi_yoy.diff(4) # change in inflation over the previous year!\n",
    "ygap=(100*(series['y']-series['ypot'])/series['ypot'])\n",
    "pi_qd=pi_yoy-0.5*pi_yoy.shift(-4)"
   ]
  },
  {
   "cell_type": "code",
   "execution_count": null,
   "metadata": {
    "scrolled": true
   },
   "outputs": [],
   "source": [
    "pi_qd"
   ]
  },
  {
   "cell_type": "code",
   "execution_count": null,
   "metadata": {},
   "outputs": [],
   "source": [
    "pidiff"
   ]
  },
  {
   "cell_type": "code",
   "execution_count": null,
   "metadata": {
    "scrolled": true
   },
   "outputs": [],
   "source": [
    "df=pd.DataFrame(data={'pi':pi_yoy[9:-4],'pidiff':pidiff[9:-4], 'ygap':ygap[9:-4], 'pi_qd':pi_qd[9:-4]})\n",
    "df.corr()"
   ]
  },
  {
   "cell_type": "code",
   "execution_count": null,
   "metadata": {},
   "outputs": [],
   "source": [
    "df"
   ]
  },
  {
   "cell_type": "code",
   "execution_count": null,
   "metadata": {},
   "outputs": [],
   "source": [
    "df['label']=df.index.year"
   ]
  },
  {
   "cell_type": "code",
   "execution_count": null,
   "metadata": {},
   "outputs": [],
   "source": [
    "df"
   ]
  },
  {
   "cell_type": "markdown",
   "metadata": {},
   "source": [
    "Version in levels"
   ]
  },
  {
   "cell_type": "code",
   "execution_count": null,
   "metadata": {
    "scrolled": true
   },
   "outputs": [],
   "source": [
    "fitted, regparams=reg_fit(df['pi'],df['ygap'], verbose=True)\n",
    "df.plot.scatter(x='ygap', y='pi')\n",
    "plt.plot(df['ygap'], fitted, color='tab:orange')\n",
    "plt.xlabel(r'$(Y_t/Y_t^{pot})$ (annualized %)')\n",
    "plt.ylabel(r'$\\pi_t$  (annualized %)')\n",
    "#plt.legend()\n",
    "#plt.xlim(-12,16)\n",
    "#plt.ylim(-12,16)"
   ]
  },
  {
   "cell_type": "code",
   "execution_count": null,
   "metadata": {},
   "outputs": [],
   "source": [
    "fitted, regparams=reg_fit(df['pidiff'],df['ygap'], verbose=True)\n",
    "ax=df.plot.scatter(x='ygap', y='pidiff')\n",
    "# if I want to label the dates\n",
    "#df[['ygap','pidiff','label']].apply(lambda x: ax.text(*x),axis=1)\n",
    "# Bottom left are 1982 and 2009. Top right are \n",
    "plt.plot(df['ygap'], fitted, color='tab:orange', label='Slope = 0.33')\n",
    "plt.legend()\n",
    "plt.xlabel(r'$(Y_t-Y_t^{pot})/Y_t^{pot}$ (annualized %)')\n",
    "plt.ylabel(r'$\\pi_t - \\pi_{t-1}$  (annualized %)')\n",
    "# plt.savefig(f'Export/phillipscurvedelta.pdf', format='pdf', transparent=True);"
   ]
  },
  {
   "cell_type": "code",
   "execution_count": null,
   "metadata": {
    "scrolled": true
   },
   "outputs": [],
   "source": [
    "fitted, regparams=reg_fit(df['pi_qd'],df['ygap'], verbose=True)\n",
    "ax=df.plot.scatter(x='ygap', y='pi_qd')\n",
    "# if I want to label the dates\n",
    "#df[['ygap','pidiff','label']].apply(lambda x: ax.text(*x),axis=1)\n",
    "plt.plot(df['ygap'], fitted, color='tab:orange')\n",
    "plt.xlabel(r'$(Y_t-Y_t^{pot})/Y_t^{pot}$ (annualized %)')\n",
    "plt.ylabel(r'$\\pi_t - \\pi_{t+1}$  (annualized %)')"
   ]
  },
  {
   "cell_type": "markdown",
   "metadata": {},
   "source": [
    "Really jumps at you that the data likes the actual difference version much better than the QD version"
   ]
  },
  {
   "cell_type": "code",
   "execution_count": null,
   "metadata": {},
   "outputs": [],
   "source": [
    "seriesd = data_load.get_fred_data('D','same_def')\n",
    "seriesd=seriesd.loc['2014-01-01':'2021-03-12']"
   ]
  },
  {
   "cell_type": "markdown",
   "metadata": {},
   "source": [
    "Get recession indicator for whole period"
   ]
  },
  {
   "cell_type": "code",
   "execution_count": null,
   "metadata": {},
   "outputs": [],
   "source": [
    "seriesd['USREC'].interpolate(method='linear', inplace=True)\n",
    "seriesd['dgs10'].interpolate(method='linear', inplace=True)\n",
    "seriesd['breakeven10'].interpolate(method='linear', inplace=True)"
   ]
  },
  {
   "cell_type": "code",
   "execution_count": null,
   "metadata": {},
   "outputs": [],
   "source": [
    "seriesd['dgs10'].plot()\n",
    "# Draw shaded for recession\n",
    "yl,yh=plt.ylim()\n",
    "plt.fill_between(seriesd.index, yl, yh, where=seriesd['USREC'].values, color='k', alpha=0.1)\n",
    "plt.xlabel('Date')\n",
    "plt.ylabel('Per cent')\n",
    "plt.title('US 10-year Treasury Rate')\n",
    "# plt.savefig(f'Export/treasury10year.pdf', format='pdf', transparent=True);"
   ]
  },
  {
   "cell_type": "code",
   "execution_count": null,
   "metadata": {},
   "outputs": [],
   "source": [
    "seriesd['breakeven10'].plot()\n",
    "# Draw shaded for recession\n",
    "yl,yh=plt.ylim()\n",
    "plt.fill_between(seriesd.index, yl, yh, where=seriesd['USREC'].values, color='k', alpha=0.1)\n",
    "plt.xlabel('Date')\n",
    "plt.ylabel('Per cent')\n",
    "plt.title('US 10-year Breakeven Inflation rate')\n",
    "# plt.savefig(f'Export/breakeven10year.pdf', format='pdf', transparent=True);"
   ]
  }
 ],
 "metadata": {
  "kernelspec": {
   "display_name": "Python 3 (ipykernel)",
   "language": "python",
   "name": "python3"
  },
  "language_info": {
   "codemirror_mode": {
    "name": "ipython",
    "version": 3
   },
   "file_extension": ".py",
   "mimetype": "text/x-python",
   "name": "python",
   "nbconvert_exporter": "python",
   "pygments_lexer": "ipython3",
   "version": "3.9.18"
  }
 },
 "nbformat": 4,
 "nbformat_minor": 4
}
